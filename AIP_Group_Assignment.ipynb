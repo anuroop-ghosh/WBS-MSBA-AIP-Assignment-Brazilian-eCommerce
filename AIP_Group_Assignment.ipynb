{
  "cells": [
    {
      "cell_type": "markdown",
      "metadata": {
        "id": "view-in-github",
        "colab_type": "text"
      },
      "source": [
        "<a href=\"https://colab.research.google.com/github/anuroop-ghosh/WBS-MSBA-AIP-Assignment-Brazilian-eCommerce/blob/main/AIP_Group_Assignment.ipynb\" target=\"_parent\"><img src=\"https://colab.research.google.com/assets/colab-badge.svg\" alt=\"Open In Colab\"/></a>"
      ]
    },
    {
      "cell_type": "code",
      "execution_count": null,
      "metadata": {
        "colab": {
          "base_uri": "https://localhost:8080/"
        },
        "id": "6OIqABf1SVOL",
        "outputId": "2973bcf0-6864-49c4-8a04-199b337f572b"
      },
      "outputs": [
        {
          "output_type": "stream",
          "name": "stdout",
          "text": [
            "Collecting geohash2\n",
            "  Downloading geohash2-1.1.tar.gz (15 kB)\n",
            "  Preparing metadata (setup.py) ... \u001b[?25l\u001b[?25hdone\n",
            "Requirement already satisfied: docutils>=0.3 in /usr/local/lib/python3.10/dist-packages (from geohash2) (0.21.2)\n",
            "Building wheels for collected packages: geohash2\n",
            "  Building wheel for geohash2 (setup.py) ... \u001b[?25l\u001b[?25hdone\n",
            "  Created wheel for geohash2: filename=geohash2-1.1-py3-none-any.whl size=15543 sha256=5224776453339c4770074b06f3434fdd598580a7a5d43f6106f0406177058d09\n",
            "  Stored in directory: /root/.cache/pip/wheels/c0/21/8d/fe65503f4f439aef35193e5ec10a14adc945e20ff87eb35895\n",
            "Successfully built geohash2\n",
            "Installing collected packages: geohash2\n",
            "Successfully installed geohash2-1.1\n",
            "Requirement already satisfied: geopy in /usr/local/lib/python3.10/dist-packages (2.4.1)\n",
            "Requirement already satisfied: geographiclib<3,>=1.52 in /usr/local/lib/python3.10/dist-packages (from geopy) (2.0)\n"
          ]
        }
      ],
      "source": [
        "!pip install geohash2\n",
        "!pip install geopy"
      ]
    },
    {
      "cell_type": "markdown",
      "metadata": {
        "id": "5wFLkCGO0UUs"
      },
      "source": [
        "## Adding all libraries\n",
        " - This is all libraries needed for the project. Last line allows uploading files directly from devices without going to files on colab"
      ]
    },
    {
      "cell_type": "code",
      "execution_count": null,
      "metadata": {
        "colab": {
          "base_uri": "https://localhost:8080/",
          "height": 35
        },
        "id": "Aa4dJ74fGBzQ",
        "outputId": "454cf8b9-8c5a-4fb1-b044-bb35eca36403"
      },
      "outputs": [
        {
          "output_type": "display_data",
          "data": {
            "text/plain": [
              "<IPython.core.display.HTML object>"
            ],
            "text/html": [
              "\n",
              "     <input type=\"file\" id=\"files-3609922d-f58f-4e13-ba9f-cfbc81dbf79c\" name=\"files[]\" multiple disabled\n",
              "        style=\"border:none\" />\n",
              "     <output id=\"result-3609922d-f58f-4e13-ba9f-cfbc81dbf79c\">\n",
              "      Upload widget is only available when the cell has been executed in the\n",
              "      current browser session. Please rerun this cell to enable.\n",
              "      </output>\n",
              "      <script>// Copyright 2017 Google LLC\n",
              "//\n",
              "// Licensed under the Apache License, Version 2.0 (the \"License\");\n",
              "// you may not use this file except in compliance with the License.\n",
              "// You may obtain a copy of the License at\n",
              "//\n",
              "//      http://www.apache.org/licenses/LICENSE-2.0\n",
              "//\n",
              "// Unless required by applicable law or agreed to in writing, software\n",
              "// distributed under the License is distributed on an \"AS IS\" BASIS,\n",
              "// WITHOUT WARRANTIES OR CONDITIONS OF ANY KIND, either express or implied.\n",
              "// See the License for the specific language governing permissions and\n",
              "// limitations under the License.\n",
              "\n",
              "/**\n",
              " * @fileoverview Helpers for google.colab Python module.\n",
              " */\n",
              "(function(scope) {\n",
              "function span(text, styleAttributes = {}) {\n",
              "  const element = document.createElement('span');\n",
              "  element.textContent = text;\n",
              "  for (const key of Object.keys(styleAttributes)) {\n",
              "    element.style[key] = styleAttributes[key];\n",
              "  }\n",
              "  return element;\n",
              "}\n",
              "\n",
              "// Max number of bytes which will be uploaded at a time.\n",
              "const MAX_PAYLOAD_SIZE = 100 * 1024;\n",
              "\n",
              "function _uploadFiles(inputId, outputId) {\n",
              "  const steps = uploadFilesStep(inputId, outputId);\n",
              "  const outputElement = document.getElementById(outputId);\n",
              "  // Cache steps on the outputElement to make it available for the next call\n",
              "  // to uploadFilesContinue from Python.\n",
              "  outputElement.steps = steps;\n",
              "\n",
              "  return _uploadFilesContinue(outputId);\n",
              "}\n",
              "\n",
              "// This is roughly an async generator (not supported in the browser yet),\n",
              "// where there are multiple asynchronous steps and the Python side is going\n",
              "// to poll for completion of each step.\n",
              "// This uses a Promise to block the python side on completion of each step,\n",
              "// then passes the result of the previous step as the input to the next step.\n",
              "function _uploadFilesContinue(outputId) {\n",
              "  const outputElement = document.getElementById(outputId);\n",
              "  const steps = outputElement.steps;\n",
              "\n",
              "  const next = steps.next(outputElement.lastPromiseValue);\n",
              "  return Promise.resolve(next.value.promise).then((value) => {\n",
              "    // Cache the last promise value to make it available to the next\n",
              "    // step of the generator.\n",
              "    outputElement.lastPromiseValue = value;\n",
              "    return next.value.response;\n",
              "  });\n",
              "}\n",
              "\n",
              "/**\n",
              " * Generator function which is called between each async step of the upload\n",
              " * process.\n",
              " * @param {string} inputId Element ID of the input file picker element.\n",
              " * @param {string} outputId Element ID of the output display.\n",
              " * @return {!Iterable<!Object>} Iterable of next steps.\n",
              " */\n",
              "function* uploadFilesStep(inputId, outputId) {\n",
              "  const inputElement = document.getElementById(inputId);\n",
              "  inputElement.disabled = false;\n",
              "\n",
              "  const outputElement = document.getElementById(outputId);\n",
              "  outputElement.innerHTML = '';\n",
              "\n",
              "  const pickedPromise = new Promise((resolve) => {\n",
              "    inputElement.addEventListener('change', (e) => {\n",
              "      resolve(e.target.files);\n",
              "    });\n",
              "  });\n",
              "\n",
              "  const cancel = document.createElement('button');\n",
              "  inputElement.parentElement.appendChild(cancel);\n",
              "  cancel.textContent = 'Cancel upload';\n",
              "  const cancelPromise = new Promise((resolve) => {\n",
              "    cancel.onclick = () => {\n",
              "      resolve(null);\n",
              "    };\n",
              "  });\n",
              "\n",
              "  // Wait for the user to pick the files.\n",
              "  const files = yield {\n",
              "    promise: Promise.race([pickedPromise, cancelPromise]),\n",
              "    response: {\n",
              "      action: 'starting',\n",
              "    }\n",
              "  };\n",
              "\n",
              "  cancel.remove();\n",
              "\n",
              "  // Disable the input element since further picks are not allowed.\n",
              "  inputElement.disabled = true;\n",
              "\n",
              "  if (!files) {\n",
              "    return {\n",
              "      response: {\n",
              "        action: 'complete',\n",
              "      }\n",
              "    };\n",
              "  }\n",
              "\n",
              "  for (const file of files) {\n",
              "    const li = document.createElement('li');\n",
              "    li.append(span(file.name, {fontWeight: 'bold'}));\n",
              "    li.append(span(\n",
              "        `(${file.type || 'n/a'}) - ${file.size} bytes, ` +\n",
              "        `last modified: ${\n",
              "            file.lastModifiedDate ? file.lastModifiedDate.toLocaleDateString() :\n",
              "                                    'n/a'} - `));\n",
              "    const percent = span('0% done');\n",
              "    li.appendChild(percent);\n",
              "\n",
              "    outputElement.appendChild(li);\n",
              "\n",
              "    const fileDataPromise = new Promise((resolve) => {\n",
              "      const reader = new FileReader();\n",
              "      reader.onload = (e) => {\n",
              "        resolve(e.target.result);\n",
              "      };\n",
              "      reader.readAsArrayBuffer(file);\n",
              "    });\n",
              "    // Wait for the data to be ready.\n",
              "    let fileData = yield {\n",
              "      promise: fileDataPromise,\n",
              "      response: {\n",
              "        action: 'continue',\n",
              "      }\n",
              "    };\n",
              "\n",
              "    // Use a chunked sending to avoid message size limits. See b/62115660.\n",
              "    let position = 0;\n",
              "    do {\n",
              "      const length = Math.min(fileData.byteLength - position, MAX_PAYLOAD_SIZE);\n",
              "      const chunk = new Uint8Array(fileData, position, length);\n",
              "      position += length;\n",
              "\n",
              "      const base64 = btoa(String.fromCharCode.apply(null, chunk));\n",
              "      yield {\n",
              "        response: {\n",
              "          action: 'append',\n",
              "          file: file.name,\n",
              "          data: base64,\n",
              "        },\n",
              "      };\n",
              "\n",
              "      let percentDone = fileData.byteLength === 0 ?\n",
              "          100 :\n",
              "          Math.round((position / fileData.byteLength) * 100);\n",
              "      percent.textContent = `${percentDone}% done`;\n",
              "\n",
              "    } while (position < fileData.byteLength);\n",
              "  }\n",
              "\n",
              "  // All done.\n",
              "  yield {\n",
              "    response: {\n",
              "      action: 'complete',\n",
              "    }\n",
              "  };\n",
              "}\n",
              "\n",
              "scope.google = scope.google || {};\n",
              "scope.google.colab = scope.google.colab || {};\n",
              "scope.google.colab._files = {\n",
              "  _uploadFiles,\n",
              "  _uploadFilesContinue,\n",
              "};\n",
              "})(self);\n",
              "</script> "
            ]
          },
          "metadata": {}
        }
      ],
      "source": [
        "import pandas as pd\n",
        "import numpy as np\n",
        "import matplotlib.pyplot as plt\n",
        "import seaborn as sns\n",
        "import warnings\n",
        "warnings.filterwarnings(\"ignore\")\n",
        "import geohash2 as geohash\n",
        "from geopy.geocoders import Nominatim\n",
        "from math import radians, cos, sin, asin, sqrt\n",
        "from geopy.distance import geodesic\n",
        "from sklearn.svm import SVC\n",
        "svm_algo = SVC(C=1.0, kernel='rbf', gamma=1e-3)\n",
        "from sklearn.linear_model import LogisticRegression as LogR\n",
        "from sklearn.ensemble import RandomForestClassifier as RF\n",
        "from sklearn.ensemble import GradientBoostingClassifier as GBDT\n",
        "from xgboost import XGBClassifier as XGB\n",
        "from sklearn.preprocessing import StandardScaler\n",
        "from sklearn.metrics import precision_recall_fscore_support\n",
        "from sklearn.model_selection import RandomizedSearchCV\n",
        "from scipy.stats import uniform, randint\n",
        "from sklearn.model_selection  import train_test_split\n",
        "from sklearn.tree import DecisionTreeClassifier as tree\n",
        "from sklearn.metrics import accuracy_score, precision_recall_fscore_support\n",
        "from google.colab import files\n",
        "upload = files.upload()"
      ]
    },
    {
      "cell_type": "markdown",
      "metadata": {
        "id": "P4nVIRQT0ree"
      },
      "source": [
        "## Reading and printing all csv files individually\n",
        "- if the files.upload above isn't working, this will make sure that the files are being uploaded to the project\n"
      ]
    },
    {
      "cell_type": "code",
      "execution_count": null,
      "metadata": {
        "id": "M84G9uPq_2yd"
      },
      "outputs": [],
      "source": [
        "customers = pd.read_csv(\"olist_customers_dataset.csv\")\n",
        "order_items = pd.read_csv(\"olist_order_items_dataset.csv\")\n",
        "order_payments = pd.read_csv(\"olist_order_payments_dataset.csv\")\n",
        "order_reviews = pd.read_csv(\"olist_order_reviews_dataset.csv\")\n",
        "orders = pd.read_csv(\"olist_orders_dataset.csv\")\n",
        "products = pd.read_csv(\"olist_products_dataset.csv\")\n",
        "sellers = pd.read_csv(\"olist_sellers_dataset.csv\")\n",
        "geolocation = pd.read_csv(\"olist_geolocation_dataset.csv\")\n",
        "translation = pd.read_csv(\"product_category_name_translation.csv\")"
      ]
    },
    {
      "cell_type": "code",
      "execution_count": null,
      "metadata": {
        "colab": {
          "base_uri": "https://localhost:8080/"
        },
        "id": "PfGvr1oMFddn",
        "outputId": "57007a67-dcfb-43a6-fbb6-f0b3ebc17b2d"
      },
      "outputs": [
        {
          "name": "stdout",
          "output_type": "stream",
          "text": [
            "\n",
            " Customers Dataset \n",
            "\n",
            " customer_id                 0\n",
            "customer_unique_id          0\n",
            "customer_zip_code_prefix    0\n",
            "customer_city               0\n",
            "customer_state              0\n",
            "dtype: int64\n",
            "\n",
            " Order Items Dataset \n",
            "\n",
            " order_id               0\n",
            "order_item_id          0\n",
            "product_id             0\n",
            "seller_id              0\n",
            "shipping_limit_date    0\n",
            "price                  0\n",
            "freight_value          0\n",
            "dtype: int64\n",
            "\n",
            " Order Payments Dataset \n",
            "\n",
            " order_id                0\n",
            "payment_sequential      0\n",
            "payment_type            0\n",
            "payment_installments    0\n",
            "payment_value           0\n",
            "dtype: int64\n",
            "\n",
            " Order Reviews Dataset \n",
            "\n",
            " review_id                      0\n",
            "order_id                       0\n",
            "review_score                   0\n",
            "review_comment_title       79404\n",
            "review_comment_message     52429\n",
            "review_creation_date           0\n",
            "review_answer_timestamp        0\n",
            "dtype: int64\n",
            "\n",
            " Orders Dataset \n",
            "\n",
            " order_id                            0\n",
            "customer_id                         0\n",
            "order_status                        0\n",
            "order_purchase_timestamp            0\n",
            "order_approved_at                 160\n",
            "order_delivered_carrier_date     1783\n",
            "order_delivered_customer_date    2965\n",
            "order_estimated_delivery_date       0\n",
            "dtype: int64\n",
            "\n",
            " Products Dataset \n",
            "\n",
            " product_id                      0\n",
            "product_category_name         610\n",
            "product_name_lenght           610\n",
            "product_description_lenght    610\n",
            "product_photos_qty            610\n",
            "product_weight_g                2\n",
            "product_length_cm               2\n",
            "product_height_cm               2\n",
            "product_width_cm                2\n",
            "dtype: int64\n",
            "\n",
            " Sellers Dataset \n",
            "\n",
            " seller_id                 0\n",
            "seller_zip_code_prefix    0\n",
            "seller_city               0\n",
            "seller_state              0\n",
            "dtype: int64\n"
          ]
        }
      ],
      "source": [
        "print(\"\\n Customers Dataset \\n\\n\", customers.isnull().sum())\n",
        "#print(\"\\n Geolocation Dataset \\n\\n\", geolocation_dataset.isnull().sum())\n",
        "print(\"\\n Order Items Dataset \\n\\n\", order_items.isnull().sum())\n",
        "print(\"\\n Order Payments Dataset \\n\\n\", order_payments.isnull().sum())\n",
        "print(\"\\n Order Reviews Dataset \\n\\n\", order_reviews.isnull().sum())\n",
        "print(\"\\n Orders Dataset \\n\\n\", orders.isnull().sum())\n",
        "print(\"\\n Products Dataset \\n\\n\", products.isnull().sum())\n",
        "print(\"\\n Sellers Dataset \\n\\n\", sellers.isnull().sum())"
      ]
    },
    {
      "cell_type": "code",
      "execution_count": null,
      "metadata": {
        "colab": {
          "base_uri": "https://localhost:8080/"
        },
        "id": "-CXubCALghr2",
        "outputId": "144c4f72-cd7f-4288-fdf1-5cd4bc4d98a9"
      },
      "outputs": [
        {
          "name": "stdout",
          "output_type": "stream",
          "text": [
            "<class 'pandas.core.frame.DataFrame'>\n",
            "RangeIndex: 99441 entries, 0 to 99440\n",
            "Data columns (total 5 columns):\n",
            " #   Column                    Non-Null Count  Dtype \n",
            "---  ------                    --------------  ----- \n",
            " 0   customer_id               99441 non-null  object\n",
            " 1   customer_unique_id        99441 non-null  object\n",
            " 2   customer_zip_code_prefix  99441 non-null  int64 \n",
            " 3   customer_city             99441 non-null  object\n",
            " 4   customer_state            99441 non-null  object\n",
            "dtypes: int64(1), object(4)\n",
            "memory usage: 3.8+ MB\n",
            "\n",
            " Customers Dataset \n",
            "\n",
            " None\n",
            "<class 'pandas.core.frame.DataFrame'>\n",
            "RangeIndex: 112650 entries, 0 to 112649\n",
            "Data columns (total 7 columns):\n",
            " #   Column               Non-Null Count   Dtype  \n",
            "---  ------               --------------   -----  \n",
            " 0   order_id             112650 non-null  object \n",
            " 1   order_item_id        112650 non-null  int64  \n",
            " 2   product_id           112650 non-null  object \n",
            " 3   seller_id            112650 non-null  object \n",
            " 4   shipping_limit_date  112650 non-null  object \n",
            " 5   price                112650 non-null  float64\n",
            " 6   freight_value        112650 non-null  float64\n",
            "dtypes: float64(2), int64(1), object(4)\n",
            "memory usage: 6.0+ MB\n",
            "\n",
            " Order Items Dataset \n",
            "\n",
            " None\n",
            "<class 'pandas.core.frame.DataFrame'>\n",
            "RangeIndex: 103886 entries, 0 to 103885\n",
            "Data columns (total 5 columns):\n",
            " #   Column                Non-Null Count   Dtype  \n",
            "---  ------                --------------   -----  \n",
            " 0   order_id              103886 non-null  object \n",
            " 1   payment_sequential    103886 non-null  int64  \n",
            " 2   payment_type          103886 non-null  object \n",
            " 3   payment_installments  103886 non-null  int64  \n",
            " 4   payment_value         103886 non-null  float64\n",
            "dtypes: float64(1), int64(2), object(2)\n",
            "memory usage: 4.0+ MB\n",
            "\n",
            " Order Payments Dataset \n",
            "\n",
            " None\n",
            "<class 'pandas.core.frame.DataFrame'>\n",
            "RangeIndex: 89999 entries, 0 to 89998\n",
            "Data columns (total 7 columns):\n",
            " #   Column                   Non-Null Count  Dtype \n",
            "---  ------                   --------------  ----- \n",
            " 0   review_id                89999 non-null  object\n",
            " 1   order_id                 89999 non-null  object\n",
            " 2   review_score             89999 non-null  int64 \n",
            " 3   review_comment_title     10595 non-null  object\n",
            " 4   review_comment_message   37570 non-null  object\n",
            " 5   review_creation_date     89999 non-null  object\n",
            " 6   review_answer_timestamp  89999 non-null  object\n",
            "dtypes: int64(1), object(6)\n",
            "memory usage: 4.8+ MB\n",
            "\n",
            " Order Reviews Dataset \n",
            "\n",
            " None\n",
            "<class 'pandas.core.frame.DataFrame'>\n",
            "RangeIndex: 99441 entries, 0 to 99440\n",
            "Data columns (total 8 columns):\n",
            " #   Column                         Non-Null Count  Dtype \n",
            "---  ------                         --------------  ----- \n",
            " 0   order_id                       99441 non-null  object\n",
            " 1   customer_id                    99441 non-null  object\n",
            " 2   order_status                   99441 non-null  object\n",
            " 3   order_purchase_timestamp       99441 non-null  object\n",
            " 4   order_approved_at              99281 non-null  object\n",
            " 5   order_delivered_carrier_date   97658 non-null  object\n",
            " 6   order_delivered_customer_date  96476 non-null  object\n",
            " 7   order_estimated_delivery_date  99441 non-null  object\n",
            "dtypes: object(8)\n",
            "memory usage: 6.1+ MB\n",
            "\n",
            " Orders Dataset \n",
            "\n",
            " None\n",
            "<class 'pandas.core.frame.DataFrame'>\n",
            "RangeIndex: 32951 entries, 0 to 32950\n",
            "Data columns (total 9 columns):\n",
            " #   Column                      Non-Null Count  Dtype  \n",
            "---  ------                      --------------  -----  \n",
            " 0   product_id                  32951 non-null  object \n",
            " 1   product_category_name       32341 non-null  object \n",
            " 2   product_name_lenght         32341 non-null  float64\n",
            " 3   product_description_lenght  32341 non-null  float64\n",
            " 4   product_photos_qty          32341 non-null  float64\n",
            " 5   product_weight_g            32949 non-null  float64\n",
            " 6   product_length_cm           32949 non-null  float64\n",
            " 7   product_height_cm           32949 non-null  float64\n",
            " 8   product_width_cm            32949 non-null  float64\n",
            "dtypes: float64(7), object(2)\n",
            "memory usage: 2.3+ MB\n",
            "\n",
            " Products Dataset \n",
            "\n",
            " None\n",
            "<class 'pandas.core.frame.DataFrame'>\n",
            "RangeIndex: 3095 entries, 0 to 3094\n",
            "Data columns (total 4 columns):\n",
            " #   Column                  Non-Null Count  Dtype \n",
            "---  ------                  --------------  ----- \n",
            " 0   seller_id               3095 non-null   object\n",
            " 1   seller_zip_code_prefix  3095 non-null   int64 \n",
            " 2   seller_city             3095 non-null   object\n",
            " 3   seller_state            3095 non-null   object\n",
            "dtypes: int64(1), object(3)\n",
            "memory usage: 96.8+ KB\n",
            "\n",
            " Sellers Dataset \n",
            "\n",
            " None\n"
          ]
        }
      ],
      "source": [
        "import matplotlib.pyplot as plt\n",
        "import seaborn as sns\n",
        "\n",
        "print(\"\\n Customers Dataset \\n\\n\", customers.info())\n",
        "print(\"\\n Order Items Dataset \\n\\n\", order_items.info())\n",
        "print(\"\\n Order Payments Dataset \\n\\n\", order_payments.info())\n",
        "print(\"\\n Order Reviews Dataset \\n\\n\", order_reviews.info())\n",
        "print(\"\\n Orders Dataset \\n\\n\", orders.info())\n",
        "print(\"\\n Products Dataset \\n\\n\", products.info())\n",
        "print(\"\\n Sellers Dataset \\n\\n\", sellers.info())"
      ]
    },
    {
      "cell_type": "markdown",
      "metadata": {
        "id": "wx3x234ZuPYb"
      },
      "source": [
        "The above has completed the data import and overview\n",
        "\n",
        "---\n",
        "\n"
      ]
    },
    {
      "cell_type": "markdown",
      "metadata": {
        "id": "IKpy-NS6MdiX"
      },
      "source": [
        "##Calculate and label the volumetric weight of the products"
      ]
    },
    {
      "cell_type": "markdown",
      "metadata": {
        "id": "4Slzr6a3N6gt"
      },
      "source": [
        "Calculating the volumetric weight of each product and assigning a rating to it.\n",
        "\n",
        "$\\text{Volumetric Weight} = \\frac{\\text{Length} \\times \\text{Width} \\times \\text{Height}}{5}$\n",
        "\n",
        "Calculating this we get the volumetric weight in grams. After this we assign weights to each product's volumetric weight based upon this:-\n",
        "\n",
        "$\n",
        "\\begin{array}{|c|c|}\n",
        "\\hline\n",
        "Range & Weight \\\\\n",
        "\\hline\n",
        "Below 500g &  1 \\\\\n",
        "\\hline\n",
        "500g - 1500g &  2 \\\\\n",
        "\\hline\n",
        "1500g - 3000g &  3 \\\\\n",
        "\\hline\n",
        "3000g - 5000g &  4 \\\\\n",
        "\\hline\n",
        "Above 5000g &  5 \\\\\n",
        "\\hline\n",
        "\\end{array}\n",
        "$"
      ]
    },
    {
      "cell_type": "code",
      "execution_count": null,
      "metadata": {
        "colab": {
          "base_uri": "https://localhost:8080/"
        },
        "collapsed": true,
        "id": "V_f521s-ZHop",
        "outputId": "f52d5e04-3af4-4c55-9cc4-85b76a15e026"
      },
      "outputs": [
        {
          "output_type": "stream",
          "name": "stdout",
          "text": [
            "                             product_id              product_category_name  \\\n",
            "0      1e9e8ef04dbcff4541ed26657ea517e5                         perfumaria   \n",
            "1      3aa071139cb16b67ca9e5dea641aaa2f                              artes   \n",
            "2      96bd76ec8810374ed1b65e291975717f                      esporte_lazer   \n",
            "3      cef67bcfe19066a932b7673e239eb23d                              bebes   \n",
            "4      9dc1a7de274444849c219cff195d0b71              utilidades_domesticas   \n",
            "...                                 ...                                ...   \n",
            "32946  a0b7d5a992ccda646f2d34e418fff5a0                   moveis_decoracao   \n",
            "32947  bf4538d88321d0fd4412a93c974510e6  construcao_ferramentas_iluminacao   \n",
            "32948  9a7c6041fa9592d9d9ef6cfe62a71f8c                    cama_mesa_banho   \n",
            "32949  83808703fc0706a22e264b9d75f04a2e             informatica_acessorios   \n",
            "32950  106392145fca363410d287a815be6de4                    cama_mesa_banho   \n",
            "\n",
            "       product_name_lenght  product_description_lenght  product_photos_qty  \\\n",
            "0                     40.0                       287.0                 1.0   \n",
            "1                     44.0                       276.0                 1.0   \n",
            "2                     46.0                       250.0                 1.0   \n",
            "3                     27.0                       261.0                 1.0   \n",
            "4                     37.0                       402.0                 4.0   \n",
            "...                    ...                         ...                 ...   \n",
            "32946                 45.0                        67.0                 2.0   \n",
            "32947                 41.0                       971.0                 1.0   \n",
            "32948                 50.0                       799.0                 1.0   \n",
            "32949                 60.0                       156.0                 2.0   \n",
            "32950                 58.0                       309.0                 1.0   \n",
            "\n",
            "       product_weight_g  product_length_cm  product_height_cm  \\\n",
            "0                 225.0               16.0               10.0   \n",
            "1                1000.0               30.0               18.0   \n",
            "2                 154.0               18.0                9.0   \n",
            "3                 371.0               26.0                4.0   \n",
            "4                 625.0               20.0               17.0   \n",
            "...                 ...                ...                ...   \n",
            "32946           12300.0               40.0               40.0   \n",
            "32947            1700.0               16.0               19.0   \n",
            "32948            1400.0               27.0                7.0   \n",
            "32949             700.0               31.0               13.0   \n",
            "32950            2083.0               12.0                2.0   \n",
            "\n",
            "       product_width_cm  product_volumetric_weight_g  volumetric_weight_rating  \n",
            "0                  14.0                        448.0                         1  \n",
            "1                  20.0                       2160.0                         3  \n",
            "2                  15.0                        486.0                         1  \n",
            "3                  26.0                        540.8                         2  \n",
            "4                  13.0                        884.0                         2  \n",
            "...                 ...                          ...                       ...  \n",
            "32946              40.0                      12800.0                         5  \n",
            "32947              16.0                        972.8                         2  \n",
            "32948              27.0                       1020.6                         2  \n",
            "32949              20.0                       1612.0                         3  \n",
            "32950               7.0                         33.6                         1  \n",
            "\n",
            "[32951 rows x 11 columns]\n"
          ]
        }
      ],
      "source": [
        "#Calculating the volumetric weight\n",
        "products['product_volumetric_weight_g'] = (products['product_length_cm'] * products['product_width_cm'] * products['product_height_cm'])/5\n",
        "\n",
        "#Ranges are Below 500g, 500-1500g, 1500-3000g, 3000-5000g and above 5000g\n",
        "def volumetric_weight_rating(volumetric_weight):\n",
        "    if volumetric_weight < 500:\n",
        "      return 1\n",
        "    elif volumetric_weight < 1500:\n",
        "      return 2\n",
        "    elif volumetric_weight < 3000:\n",
        "      return 3\n",
        "    elif volumetric_weight < 5000:\n",
        "      return 4\n",
        "    else:\n",
        "      return 5\n",
        "\n",
        "#Applying the volumetric weight rating\n",
        "products['volumetric_weight_rating'] = products['product_volumetric_weight_g'].apply(volumetric_weight_rating)\n",
        "print(products)"
      ]
    },
    {
      "cell_type": "code",
      "execution_count": null,
      "metadata": {
        "colab": {
          "base_uri": "https://localhost:8080/"
        },
        "id": "Bp-diExMo6U6",
        "outputId": "4da17137-f37d-48e4-b8c1-2c418c1fe6b3"
      },
      "outputs": [
        {
          "output_type": "stream",
          "name": "stdout",
          "text": [
            "       product_weight_g  product_volume_cm3  product_description_lenght\n",
            "count      32949.000000        32949.000000                32341.000000\n",
            "mean        2276.472488        16564.096695                  771.495285\n",
            "std         4282.038731        27057.041650                  635.115225\n",
            "min            0.000000          168.000000                    4.000000\n",
            "25%          300.000000         2880.000000                  339.000000\n",
            "50%          700.000000         6840.000000                  595.000000\n",
            "75%         1900.000000        18480.000000                  972.000000\n",
            "max        40425.000000       296208.000000                 3992.000000\n",
            "volume_rating\n",
            "1    8205\n",
            "2    8265\n",
            "3    8232\n",
            "4    8249\n",
            "Name: count, dtype: int64 weight_rating\n",
            "1    7211\n",
            "2    8929\n",
            "3    8550\n",
            "4    8261\n",
            "Name: count, dtype: int64 descleng_rating\n",
            "1    31782\n",
            "2      559\n",
            "4      610\n",
            "Name: count, dtype: int64\n"
          ]
        }
      ],
      "source": [
        "# Calculate product volume\n",
        "products['product_volume_cm3'] = products['product_length_cm'] * products['product_width_cm'] * products['product_height_cm']\n",
        "\n",
        "# Define a function to rate\n",
        "print(products[['product_weight_g','product_volume_cm3','product_description_lenght']].describe())\n",
        "\n",
        "def weight_rating(weight):\n",
        "    if weight < 300:\n",
        "        return 1\n",
        "    elif weight < 700:\n",
        "        return 2\n",
        "    elif weight < 1900:\n",
        "        return 3\n",
        "    else:\n",
        "        return 4\n",
        "\n",
        "def volume_rating(volume):\n",
        "    if volume < 2880:\n",
        "        return 1\n",
        "    elif volume < 6840:\n",
        "        return 2\n",
        "    elif volume < 18480:\n",
        "        return 3\n",
        "    else:\n",
        "        return 4\n",
        "\n",
        "def descleng_rating(des_lenghth):\n",
        "    if des_lenghth < 339:\n",
        "        return 1\n",
        "    elif des_lenghth < 595:\n",
        "        return 2\n",
        "    elif des_lenghth < 972:\n",
        "        return 3\n",
        "    else:\n",
        "        return 4\n",
        "\n",
        "# Application rating function\n",
        "products['weight_rating'] = products['product_weight_g'].apply(weight_rating)\n",
        "products['volume_rating'] = products['product_volume_cm3'].apply(volume_rating)\n",
        "products['descleng_rating'] = products['product_description_lenght'].apply(volume_rating)\n",
        "\n",
        "# Inspection: Output processed data\n",
        "volume_rating_counts = products['volume_rating'].value_counts().sort_index()\n",
        "weight_rating_counts = products['weight_rating'].value_counts().sort_index()\n",
        "descleng_rating_counts = products['descleng_rating'].value_counts().sort_index()\n",
        "print(volume_rating_counts,weight_rating_counts,descleng_rating_counts)\n"
      ]
    },
    {
      "cell_type": "markdown",
      "metadata": {
        "id": "GE0U_y09vEYz"
      },
      "source": [
        "## Translation\n",
        "- Using dictionary to directly translate the product names to english without doing that on excel"
      ]
    },
    {
      "cell_type": "code",
      "execution_count": null,
      "metadata": {
        "colab": {
          "base_uri": "https://localhost:8080/"
        },
        "id": "Xot91qChvBZL",
        "outputId": "23495591-700f-4fd2-ccd3-5665362e50af"
      },
      "outputs": [
        {
          "output_type": "stream",
          "name": "stdout",
          "text": [
            "    product_category_name product_category_english\n",
            "0            beleza_saude            health_beauty\n",
            "1  informatica_acessorios    computers_accessories\n",
            "2              automotivo                     auto\n",
            "3         cama_mesa_banho           bed_bath_table\n",
            "4        moveis_decoracao          furniture_decor\n"
          ]
        }
      ],
      "source": [
        "#Translate to english\n",
        "# Create the translation dictionary\n",
        "Translation_dict = dict(zip(translation['product_category_name'], translation['product_category_name_english']))\n",
        "\n",
        "# Map the 'product_category_name' to its English equivalent\n",
        "translation['product_category_english'] = translation['product_category_name'].map(Translation_dict)\n",
        "\n",
        "# Handle missing translations by falling back to the original 'product_category_name'\n",
        "translation['product_category_english'] = translation['product_category_name_english'].fillna(translation['product_category_name'])\n",
        "\n",
        "# Check the output\n",
        "print(translation[['product_category_name', 'product_category_english']].head())"
      ]
    },
    {
      "cell_type": "markdown",
      "metadata": {
        "id": "tHMm7hCCTBqu"
      },
      "source": [
        "##Calculate the distance between zipcodes"
      ]
    },
    {
      "cell_type": "markdown",
      "metadata": {
        "id": "12nQ2yoySCrV"
      },
      "source": [
        "Calculating the distance between the zipcodes of the customer with the zipcode of the seller using the latitude and longitude data provided in the geolocation dataset."
      ]
    },
    {
      "cell_type": "code",
      "execution_count": null,
      "metadata": {
        "id": "x3V7Ihn1TA3-"
      },
      "outputs": [],
      "source": [
        "# Merge the orders and customers datasets on the customer ID to get customer zip code prefixes in the orders DataFrame.\n",
        "orders = pd.merge(orders, customers[['customer_id', 'customer_zip_code_prefix']], on='customer_id', how='left')\n",
        "\n",
        "# Merge the orders dataset with sellers on the 'order_id' column\n",
        "# This will bring the 'seller_zip_code_prefix' into the orders dataset\n",
        "orders = pd.merge(orders, order_items[['order_id', 'seller_id']], on='order_id', how='left')\n",
        "orders = pd.merge(orders, sellers[['seller_id', 'seller_zip_code_prefix']], on='seller_id', how='left')\n",
        "\n",
        "# Create a dictionary to efficiently map zip codes to coordinates\n",
        "# Group by 'geolocation_zip_code_prefix' and aggregate coordinates (e.g., using mean)\n",
        "geolocation_dict = geolocation.groupby('geolocation_zip_code_prefix')[['geolocation_lat', 'geolocation_lng']].mean().to_dict('index')\n",
        "\n",
        "def calculate_distance(row):\n",
        "    customer_zip = row['customer_zip_code_prefix']\n",
        "    seller_zip = row['seller_zip_code_prefix']\n",
        "\n",
        "# Handle missing zip codes:\n",
        "    if pd.isna(customer_zip) or pd.isna(seller_zip):\n",
        "        return np.nan  # Return NaN if either zip code is missing\n",
        "\n",
        "    # Access the latitude and longitude values directly\n",
        "    try:  # Try to access coordinates, if available\n",
        "        customer_coords = (geolocation_dict[customer_zip]['geolocation_lat'], geolocation_dict[customer_zip]['geolocation_lng'])\n",
        "        seller_coords = (geolocation_dict[seller_zip]['geolocation_lat'], geolocation_dict[seller_zip]['geolocation_lng'])\n",
        "        return geodesic(customer_coords, seller_coords).km\n",
        "    except KeyError:  # Handle KeyError if zip code not in dictionary\n",
        "        return np.nan  # Return NaN if zip code not found\n",
        "\n",
        "    return geodesic(customer_coords, seller_coords).km\n",
        "\n",
        "# Calculate distances for each order\n",
        "orders['distance_km'] = orders.apply(calculate_distance, axis=1)"
      ]
    },
    {
      "cell_type": "markdown",
      "metadata": {
        "id": "7HsnXGyzpfQ1"
      },
      "source": [
        "##Calculate the duration of each process"
      ]
    },
    {
      "cell_type": "markdown",
      "metadata": {
        "id": "Bptw0xL9BRcY"
      },
      "source": [
        "Due to logical errors found in the timestamp of the original data during the initial inspection, such as customers receiving packages earlier than merchants, this resulted in over 3000 instances of such data. They are returned as 0"
      ]
    },
    {
      "cell_type": "code",
      "execution_count": null,
      "metadata": {
        "collapsed": true,
        "id": "YouXIMFypW3E"
      },
      "outputs": [],
      "source": [
        "orders['order_purchase_timestamp'] = pd.to_datetime(orders['order_purchase_timestamp'])\n",
        "orders['order_approved_at'] = pd.to_datetime(orders['order_approved_at'])\n",
        "orders['order_delivered_carrier_date'] = pd.to_datetime(orders['order_delivered_carrier_date'])\n",
        "orders['order_delivered_customer_date'] = pd.to_datetime(orders['order_delivered_customer_date'])\n",
        "orders['order_estimated_delivery_date'] = pd.to_datetime(orders['order_estimated_delivery_date'])\n",
        "\n",
        "order_reviews['review_creation_date'] = pd.to_datetime(order_reviews['review_creation_date'])\n",
        "order_reviews['review_answer_timestamp'] = pd.to_datetime(order_reviews['review_answer_timestamp'])\n",
        "\n",
        "# Calculate the duration (in hours)\n",
        "orders['approval_duration_hours'] = (orders['order_approved_at'] - orders['order_purchase_timestamp']).dt.total_seconds() / 3600\n",
        "\n",
        "# Order shipping time from merchant\n",
        "orders['delivery_fromseller'] = (\n",
        "    np.where(\n",
        "        orders['order_delivered_carrier_date'] >= orders['order_approved_at'],\n",
        "        (orders['order_delivered_carrier_date'] - orders['order_approved_at']).dt.total_seconds() / 3600,\n",
        "        0\n",
        "    )\n",
        ")\n",
        "\n",
        "# Delivery time of express delivery\n",
        "orders['delivery_tocusto'] = (\n",
        "    np.where(\n",
        "        orders['order_delivered_customer_date'] >= orders['order_delivered_carrier_date'],\n",
        "        (orders['order_delivered_customer_date'] - orders['order_delivered_carrier_date']).dt.total_seconds() / 3600,\n",
        "        0\n",
        "    )\n",
        ")\n",
        "\n",
        "#Calculate the duration of the review answer\n",
        "order_reviews['review_toanswer'] = (order_reviews['review_answer_timestamp'] - order_reviews['review_creation_date']).dt.total_seconds() / 3600\n",
        "\n",
        "# Compare order_delivered_custom_date and order_ estimated d_delivery_date\n",
        "orders['estimated_delivery_later'] = (orders['order_estimated_delivery_date'] > orders['order_delivered_customer_date']).astype(int) #Mark 1 if arrive in time\n"
      ]
    },
    {
      "cell_type": "markdown",
      "metadata": {
        "id": "_DU4znGHLZLO"
      },
      "source": [
        "##Label textual variables"
      ]
    },
    {
      "cell_type": "code",
      "execution_count": null,
      "metadata": {
        "id": "WSVzQDn3Lr_W"
      },
      "outputs": [],
      "source": [
        "#Mark the content of the review\n",
        "order_reviews['title_flag'] = order_reviews['review_comment_title'].notna().astype(int)\n",
        "order_reviews['message_flag'] = order_reviews['review_comment_message'].notna().astype(int)\n",
        "\n",
        "#Mark the order status\n",
        "status_mapping = {\n",
        "    'created': 1,\n",
        "    'unavailable': 2,\n",
        "    'canceled': 3,\n",
        "    'approved': 4,\n",
        "    'invoiced': 5,\n",
        "    'processing': 6,\n",
        "    'shipped': 7,\n",
        "    'delivered': 8\n",
        "}\n",
        "\n",
        "#Convert text to numbers\n",
        "orders['order_status_numeric'] = orders['order_status'].map(status_mapping)\n",
        "\n",
        "\n",
        "\n",
        "payment_mapping = {\n",
        "    'not_defined': 0,\n",
        "    'voucher': 1,\n",
        "    'boleto': 2,\n",
        "    'credit_card': 3,\n",
        "    'debit_card': 4\n",
        "}\n",
        "#Convert text to numbers\n",
        "order_payments['payment_type_numeric'] = order_payments['payment_type'].map(payment_mapping)\n"
      ]
    },
    {
      "cell_type": "markdown",
      "metadata": {
        "id": "14laxrsSOOL3"
      },
      "source": [
        "##Calculate customers' loyalty\n",
        "- As a group, we thought that this will be a nice addtion to differentiate customers based on loyalty using the link between unique id & customer id in order to merge this into the dataset\n",
        "\n"
      ]
    },
    {
      "cell_type": "code",
      "execution_count": null,
      "metadata": {
        "id": "f7kUL6LGOZdm"
      },
      "outputs": [],
      "source": [
        "# Merge customers with the loyalty information\n",
        "customers['customer_loyalty'] = customers.groupby('customer_unique_id')['customer_id'].transform('count')"
      ]
    },
    {
      "cell_type": "markdown",
      "metadata": {
        "id": "IEK7xhqnuyou"
      },
      "source": [
        "##Separate orders with one/mulitple review scores\n",
        "- The code below seperates the orders with one review from those with multiple reviews using order id and checking duplictes and repeated orders as well.\n",
        "- Right after that the results were converted to two dataframes and the average was calculated by using order id and review score.\n",
        "- The final step was to merge all datasets as discussed in order to join both merged datasets into one final dataset that will be used to find all results"
      ]
    },
    {
      "cell_type": "code",
      "execution_count": null,
      "metadata": {
        "colab": {
          "base_uri": "https://localhost:8080/"
        },
        "id": "g-rSej74U6nd",
        "outputId": "781fde72-d13f-4de2-c4eb-f97b8c656bad"
      },
      "outputs": [
        {
          "output_type": "stream",
          "name": "stdout",
          "text": [
            "  product_category_name product_category_name_english\n",
            "0       cama_mesa_banho                bed_bath_table\n",
            "1       cama_mesa_banho                bed_bath_table\n",
            "2         esporte_lazer                sports_leisure\n",
            "3         esporte_lazer                sports_leisure\n",
            "4      moveis_decoracao               furniture_decor\n",
            "  product_category_name product_category_name_english\n",
            "0            cool_stuff                    cool_stuff\n",
            "1              pet_shop                      pet_shop\n",
            "2      moveis_decoracao               furniture_decor\n",
            "3            perfumaria                     perfumery\n",
            "4    ferramentas_jardim                  garden_tools\n"
          ]
        }
      ],
      "source": [
        "# Create a dictionary with order_id as the key and corresponding rows as the value\n",
        "order_reviews_dict = {}\n",
        "\n",
        "# Traverse the data box and store each row by order_id\n",
        "for index, row in order_reviews.iterrows():\n",
        "    order_id = row['order_id']\n",
        "    if order_id not in order_reviews_dict:\n",
        "        order_reviews_dict[order_id] = []\n",
        "    order_reviews_dict[order_id].append(row)\n",
        "\n",
        "# Create two lists to store classification results\n",
        "repeated_orders = []\n",
        "unique_orders = []\n",
        "\n",
        "# Traverse the dictionary to determine if order_id is duplicated\n",
        "for order_id, rows in order_reviews_dict.items():\n",
        "    if len(rows) > 1:\n",
        "        repeated_orders.extend(rows)\n",
        "    else:\n",
        "        unique_orders.extend(rows)\n",
        "\n",
        "repeated_orders_df = pd.DataFrame(repeated_orders)\n",
        "unique_orders_df = pd.DataFrame(unique_orders)\n",
        "\n",
        "average_repeated_orders = repeated_orders_df.groupby('order_id')['review_score'].mean().reset_index()\n",
        "\n",
        "# Add English translations to the 'products' DataFrame\n",
        "products = products.merge(\n",
        "    translation[['product_category_name', 'product_category_name_english']],\n",
        "    on='product_category_name',\n",
        "    how='left'\n",
        ")\n",
        "\n",
        "# Generate the final datasets with translations included\n",
        "repeated_orders_df.drop('review_score', axis=1, inplace=True)\n",
        "repeated_orders_df = repeated_orders_df.merge(average_repeated_orders, on='order_id')\n",
        "\n",
        "repeat_df = (\n",
        "    repeated_orders_df\n",
        "    .merge(orders, on='order_id', how='inner')  # Use modified 'orders' with calculated durations\n",
        "    .merge(order_payments, on='order_id', how='inner')\n",
        "    .merge(customers, on='customer_id', how='inner')\n",
        "    .merge(order_items, on='order_id', how='inner')\n",
        "    .merge(products, on='product_id', how='inner')  # 'products' now includes English translations\n",
        ")\n",
        "\n",
        "unique_df = (\n",
        "    unique_orders_df\n",
        "    .merge(orders, on='order_id', how='inner')  # Use modified 'orders' with calculated durations\n",
        "    .merge(order_payments, on='order_id', how='inner')\n",
        "    .merge(customers, on='customer_id', how='inner')\n",
        "    .merge(order_items, on='order_id', how='inner')\n",
        "    .merge(products, on='product_id', how='inner')  # 'products' now includes English translations\n",
        ")\n",
        "\n",
        "# Check the output\n",
        "print(repeat_df[['product_category_name', 'product_category_name_english']].head())\n",
        "print(unique_df[['product_category_name', 'product_category_name_english']].head())\n"
      ]
    },
    {
      "cell_type": "markdown",
      "metadata": {
        "id": "_kmcB9DSuxqZ"
      },
      "source": [
        "##Joining datasets\n",
        "- Below we can see that we dropped/removed the data we believe that will not be needed and finally merged both sets (unique df , repeat df) into one final set which is called final df\n",
        "\n",
        "\n"
      ]
    },
    {
      "cell_type": "code",
      "execution_count": null,
      "metadata": {
        "id": "GW3XoAiKDz6R"
      },
      "outputs": [],
      "source": [
        "selected_columns = [\n",
        "    'review_score',\n",
        "    'title_flag',\n",
        "    'message_flag',\n",
        "    'review_toanswer',\n",
        "    'order_status_numeric',\n",
        "    'customer_loyalty',\n",
        "\n",
        "    'distance_km',\n",
        "    'approval_duration_hours',\n",
        "    'delivery_fromseller',\n",
        "    'delivery_tocusto',\n",
        "    'estimated_delivery_later',\n",
        "\n",
        "    'payment_sequential',\n",
        "    'payment_type',\n",
        "    'payment_installments',\n",
        "    'payment_value',\n",
        "    'payment_type_numeric',\n",
        "\n",
        "    #'customer_city',\n",
        "    'customer_state',\n",
        "\n",
        "    'order_item_id',\n",
        "    'price',\n",
        "    'freight_value',\n",
        "    'product_name_lenght',\n",
        "    'product_description_lenght',\n",
        "    'product_photos_qty',\n",
        "    'product_volumetric_weight_g',\n",
        "    'volumetric_weight_rating',\n",
        "    'weight_rating',\n",
        "    'volume_rating',\n",
        "    'descleng_rating'\n",
        "]\n",
        "\n",
        "#Select the desired column from repetiti_final.df\n",
        "final_df1 = repeat_df[selected_columns]\n",
        "final_df2 = unique_df[selected_columns]\n",
        "\n",
        "#Total final dataset\n",
        "final_df = pd.concat([final_df1,final_df2], ignore_index=True)"
      ]
    },
    {
      "cell_type": "code",
      "execution_count": null,
      "metadata": {
        "id": "arfp6s8fkvPc"
      },
      "outputs": [],
      "source": [
        "#Divide the final test dataset based on order status\n",
        "nodelivery_df = final_df[final_df['order_status_numeric'].isin([1, 2, 3, 4, 5, 6])]\n",
        "delivery_df = final_df[final_df['order_status_numeric'].isin([7,8])]"
      ]
    },
    {
      "cell_type": "markdown",
      "metadata": {
        "id": "F2rnxD_8PPN6"
      },
      "source": [
        "#Lasso"
      ]
    },
    {
      "cell_type": "markdown",
      "metadata": {
        "id": "Ey-GhYkoEe4e"
      },
      "source": [
        "\n",
        "*   The lasso model, as the final step in feature engineering, aims to initially identify variables that significantly impact review scores.\n",
        "\n",
        "☝However, the results show an MSE of 1.19, which is relatively high given that the target variable ranges from 1 to 5, making it less convincing and only useful as a reference. Therefore, we will continue to explore other models.\n",
        "\n"
      ]
    },
    {
      "cell_type": "markdown",
      "metadata": {
        "id": "iQmjbBRzQ_rI"
      },
      "source": [
        "##Orders without delivery time"
      ]
    },
    {
      "cell_type": "code",
      "execution_count": null,
      "metadata": {
        "id": "ram5xwk8PRjR"
      },
      "outputs": [],
      "source": [
        "from sklearn.preprocessing import StandardScaler\n",
        "from sklearn.linear_model import Lasso # Import Lasso class from sklearn.linear_model\n",
        "from sklearn.model_selection import train_test_split # Import train_test_split\n",
        "from sklearn.metrics import mean_squared_error # Import mean_squared_error\n",
        "\n",
        "\n",
        "X1 = nodelivery_df.drop(['review_score'], axis=1)  # All features\n",
        "y1 = nodelivery_df['review_score']  # Target variable\n",
        "\n",
        "# Handling missing values\n",
        "X1.fillna(0, inplace=True)\n",
        "X1 = pd.get_dummies(X1, drop_first=True)  # Exclusive hot encoding\n",
        "\n",
        "# Standardized features\n",
        "scaler1 = StandardScaler()\n",
        "X1_scaled = scaler1.fit_transform(X1)\n",
        "\n",
        "X1_train, X1_test, y1_train, y1_test = train_test_split(X1_scaled, y1, test_size=0.2, random_state=42)"
      ]
    },
    {
      "cell_type": "code",
      "execution_count": null,
      "metadata": {
        "colab": {
          "base_uri": "https://localhost:8080/",
          "height": 80
        },
        "id": "D3caCBuxXjwa",
        "outputId": "176c062f-0904-44a6-89e5-424760ad7f87"
      },
      "outputs": [
        {
          "output_type": "execute_result",
          "data": {
            "text/plain": [
              "LassoCV(cv=5)"
            ],
            "text/html": [
              "<style>#sk-container-id-1 {\n",
              "  /* Definition of color scheme common for light and dark mode */\n",
              "  --sklearn-color-text: black;\n",
              "  --sklearn-color-line: gray;\n",
              "  /* Definition of color scheme for unfitted estimators */\n",
              "  --sklearn-color-unfitted-level-0: #fff5e6;\n",
              "  --sklearn-color-unfitted-level-1: #f6e4d2;\n",
              "  --sklearn-color-unfitted-level-2: #ffe0b3;\n",
              "  --sklearn-color-unfitted-level-3: chocolate;\n",
              "  /* Definition of color scheme for fitted estimators */\n",
              "  --sklearn-color-fitted-level-0: #f0f8ff;\n",
              "  --sklearn-color-fitted-level-1: #d4ebff;\n",
              "  --sklearn-color-fitted-level-2: #b3dbfd;\n",
              "  --sklearn-color-fitted-level-3: cornflowerblue;\n",
              "\n",
              "  /* Specific color for light theme */\n",
              "  --sklearn-color-text-on-default-background: var(--sg-text-color, var(--theme-code-foreground, var(--jp-content-font-color1, black)));\n",
              "  --sklearn-color-background: var(--sg-background-color, var(--theme-background, var(--jp-layout-color0, white)));\n",
              "  --sklearn-color-border-box: var(--sg-text-color, var(--theme-code-foreground, var(--jp-content-font-color1, black)));\n",
              "  --sklearn-color-icon: #696969;\n",
              "\n",
              "  @media (prefers-color-scheme: dark) {\n",
              "    /* Redefinition of color scheme for dark theme */\n",
              "    --sklearn-color-text-on-default-background: var(--sg-text-color, var(--theme-code-foreground, var(--jp-content-font-color1, white)));\n",
              "    --sklearn-color-background: var(--sg-background-color, var(--theme-background, var(--jp-layout-color0, #111)));\n",
              "    --sklearn-color-border-box: var(--sg-text-color, var(--theme-code-foreground, var(--jp-content-font-color1, white)));\n",
              "    --sklearn-color-icon: #878787;\n",
              "  }\n",
              "}\n",
              "\n",
              "#sk-container-id-1 {\n",
              "  color: var(--sklearn-color-text);\n",
              "}\n",
              "\n",
              "#sk-container-id-1 pre {\n",
              "  padding: 0;\n",
              "}\n",
              "\n",
              "#sk-container-id-1 input.sk-hidden--visually {\n",
              "  border: 0;\n",
              "  clip: rect(1px 1px 1px 1px);\n",
              "  clip: rect(1px, 1px, 1px, 1px);\n",
              "  height: 1px;\n",
              "  margin: -1px;\n",
              "  overflow: hidden;\n",
              "  padding: 0;\n",
              "  position: absolute;\n",
              "  width: 1px;\n",
              "}\n",
              "\n",
              "#sk-container-id-1 div.sk-dashed-wrapped {\n",
              "  border: 1px dashed var(--sklearn-color-line);\n",
              "  margin: 0 0.4em 0.5em 0.4em;\n",
              "  box-sizing: border-box;\n",
              "  padding-bottom: 0.4em;\n",
              "  background-color: var(--sklearn-color-background);\n",
              "}\n",
              "\n",
              "#sk-container-id-1 div.sk-container {\n",
              "  /* jupyter's `normalize.less` sets `[hidden] { display: none; }`\n",
              "     but bootstrap.min.css set `[hidden] { display: none !important; }`\n",
              "     so we also need the `!important` here to be able to override the\n",
              "     default hidden behavior on the sphinx rendered scikit-learn.org.\n",
              "     See: https://github.com/scikit-learn/scikit-learn/issues/21755 */\n",
              "  display: inline-block !important;\n",
              "  position: relative;\n",
              "}\n",
              "\n",
              "#sk-container-id-1 div.sk-text-repr-fallback {\n",
              "  display: none;\n",
              "}\n",
              "\n",
              "div.sk-parallel-item,\n",
              "div.sk-serial,\n",
              "div.sk-item {\n",
              "  /* draw centered vertical line to link estimators */\n",
              "  background-image: linear-gradient(var(--sklearn-color-text-on-default-background), var(--sklearn-color-text-on-default-background));\n",
              "  background-size: 2px 100%;\n",
              "  background-repeat: no-repeat;\n",
              "  background-position: center center;\n",
              "}\n",
              "\n",
              "/* Parallel-specific style estimator block */\n",
              "\n",
              "#sk-container-id-1 div.sk-parallel-item::after {\n",
              "  content: \"\";\n",
              "  width: 100%;\n",
              "  border-bottom: 2px solid var(--sklearn-color-text-on-default-background);\n",
              "  flex-grow: 1;\n",
              "}\n",
              "\n",
              "#sk-container-id-1 div.sk-parallel {\n",
              "  display: flex;\n",
              "  align-items: stretch;\n",
              "  justify-content: center;\n",
              "  background-color: var(--sklearn-color-background);\n",
              "  position: relative;\n",
              "}\n",
              "\n",
              "#sk-container-id-1 div.sk-parallel-item {\n",
              "  display: flex;\n",
              "  flex-direction: column;\n",
              "}\n",
              "\n",
              "#sk-container-id-1 div.sk-parallel-item:first-child::after {\n",
              "  align-self: flex-end;\n",
              "  width: 50%;\n",
              "}\n",
              "\n",
              "#sk-container-id-1 div.sk-parallel-item:last-child::after {\n",
              "  align-self: flex-start;\n",
              "  width: 50%;\n",
              "}\n",
              "\n",
              "#sk-container-id-1 div.sk-parallel-item:only-child::after {\n",
              "  width: 0;\n",
              "}\n",
              "\n",
              "/* Serial-specific style estimator block */\n",
              "\n",
              "#sk-container-id-1 div.sk-serial {\n",
              "  display: flex;\n",
              "  flex-direction: column;\n",
              "  align-items: center;\n",
              "  background-color: var(--sklearn-color-background);\n",
              "  padding-right: 1em;\n",
              "  padding-left: 1em;\n",
              "}\n",
              "\n",
              "\n",
              "/* Toggleable style: style used for estimator/Pipeline/ColumnTransformer box that is\n",
              "clickable and can be expanded/collapsed.\n",
              "- Pipeline and ColumnTransformer use this feature and define the default style\n",
              "- Estimators will overwrite some part of the style using the `sk-estimator` class\n",
              "*/\n",
              "\n",
              "/* Pipeline and ColumnTransformer style (default) */\n",
              "\n",
              "#sk-container-id-1 div.sk-toggleable {\n",
              "  /* Default theme specific background. It is overwritten whether we have a\n",
              "  specific estimator or a Pipeline/ColumnTransformer */\n",
              "  background-color: var(--sklearn-color-background);\n",
              "}\n",
              "\n",
              "/* Toggleable label */\n",
              "#sk-container-id-1 label.sk-toggleable__label {\n",
              "  cursor: pointer;\n",
              "  display: block;\n",
              "  width: 100%;\n",
              "  margin-bottom: 0;\n",
              "  padding: 0.5em;\n",
              "  box-sizing: border-box;\n",
              "  text-align: center;\n",
              "}\n",
              "\n",
              "#sk-container-id-1 label.sk-toggleable__label-arrow:before {\n",
              "  /* Arrow on the left of the label */\n",
              "  content: \"▸\";\n",
              "  float: left;\n",
              "  margin-right: 0.25em;\n",
              "  color: var(--sklearn-color-icon);\n",
              "}\n",
              "\n",
              "#sk-container-id-1 label.sk-toggleable__label-arrow:hover:before {\n",
              "  color: var(--sklearn-color-text);\n",
              "}\n",
              "\n",
              "/* Toggleable content - dropdown */\n",
              "\n",
              "#sk-container-id-1 div.sk-toggleable__content {\n",
              "  max-height: 0;\n",
              "  max-width: 0;\n",
              "  overflow: hidden;\n",
              "  text-align: left;\n",
              "  /* unfitted */\n",
              "  background-color: var(--sklearn-color-unfitted-level-0);\n",
              "}\n",
              "\n",
              "#sk-container-id-1 div.sk-toggleable__content.fitted {\n",
              "  /* fitted */\n",
              "  background-color: var(--sklearn-color-fitted-level-0);\n",
              "}\n",
              "\n",
              "#sk-container-id-1 div.sk-toggleable__content pre {\n",
              "  margin: 0.2em;\n",
              "  border-radius: 0.25em;\n",
              "  color: var(--sklearn-color-text);\n",
              "  /* unfitted */\n",
              "  background-color: var(--sklearn-color-unfitted-level-0);\n",
              "}\n",
              "\n",
              "#sk-container-id-1 div.sk-toggleable__content.fitted pre {\n",
              "  /* unfitted */\n",
              "  background-color: var(--sklearn-color-fitted-level-0);\n",
              "}\n",
              "\n",
              "#sk-container-id-1 input.sk-toggleable__control:checked~div.sk-toggleable__content {\n",
              "  /* Expand drop-down */\n",
              "  max-height: 200px;\n",
              "  max-width: 100%;\n",
              "  overflow: auto;\n",
              "}\n",
              "\n",
              "#sk-container-id-1 input.sk-toggleable__control:checked~label.sk-toggleable__label-arrow:before {\n",
              "  content: \"▾\";\n",
              "}\n",
              "\n",
              "/* Pipeline/ColumnTransformer-specific style */\n",
              "\n",
              "#sk-container-id-1 div.sk-label input.sk-toggleable__control:checked~label.sk-toggleable__label {\n",
              "  color: var(--sklearn-color-text);\n",
              "  background-color: var(--sklearn-color-unfitted-level-2);\n",
              "}\n",
              "\n",
              "#sk-container-id-1 div.sk-label.fitted input.sk-toggleable__control:checked~label.sk-toggleable__label {\n",
              "  background-color: var(--sklearn-color-fitted-level-2);\n",
              "}\n",
              "\n",
              "/* Estimator-specific style */\n",
              "\n",
              "/* Colorize estimator box */\n",
              "#sk-container-id-1 div.sk-estimator input.sk-toggleable__control:checked~label.sk-toggleable__label {\n",
              "  /* unfitted */\n",
              "  background-color: var(--sklearn-color-unfitted-level-2);\n",
              "}\n",
              "\n",
              "#sk-container-id-1 div.sk-estimator.fitted input.sk-toggleable__control:checked~label.sk-toggleable__label {\n",
              "  /* fitted */\n",
              "  background-color: var(--sklearn-color-fitted-level-2);\n",
              "}\n",
              "\n",
              "#sk-container-id-1 div.sk-label label.sk-toggleable__label,\n",
              "#sk-container-id-1 div.sk-label label {\n",
              "  /* The background is the default theme color */\n",
              "  color: var(--sklearn-color-text-on-default-background);\n",
              "}\n",
              "\n",
              "/* On hover, darken the color of the background */\n",
              "#sk-container-id-1 div.sk-label:hover label.sk-toggleable__label {\n",
              "  color: var(--sklearn-color-text);\n",
              "  background-color: var(--sklearn-color-unfitted-level-2);\n",
              "}\n",
              "\n",
              "/* Label box, darken color on hover, fitted */\n",
              "#sk-container-id-1 div.sk-label.fitted:hover label.sk-toggleable__label.fitted {\n",
              "  color: var(--sklearn-color-text);\n",
              "  background-color: var(--sklearn-color-fitted-level-2);\n",
              "}\n",
              "\n",
              "/* Estimator label */\n",
              "\n",
              "#sk-container-id-1 div.sk-label label {\n",
              "  font-family: monospace;\n",
              "  font-weight: bold;\n",
              "  display: inline-block;\n",
              "  line-height: 1.2em;\n",
              "}\n",
              "\n",
              "#sk-container-id-1 div.sk-label-container {\n",
              "  text-align: center;\n",
              "}\n",
              "\n",
              "/* Estimator-specific */\n",
              "#sk-container-id-1 div.sk-estimator {\n",
              "  font-family: monospace;\n",
              "  border: 1px dotted var(--sklearn-color-border-box);\n",
              "  border-radius: 0.25em;\n",
              "  box-sizing: border-box;\n",
              "  margin-bottom: 0.5em;\n",
              "  /* unfitted */\n",
              "  background-color: var(--sklearn-color-unfitted-level-0);\n",
              "}\n",
              "\n",
              "#sk-container-id-1 div.sk-estimator.fitted {\n",
              "  /* fitted */\n",
              "  background-color: var(--sklearn-color-fitted-level-0);\n",
              "}\n",
              "\n",
              "/* on hover */\n",
              "#sk-container-id-1 div.sk-estimator:hover {\n",
              "  /* unfitted */\n",
              "  background-color: var(--sklearn-color-unfitted-level-2);\n",
              "}\n",
              "\n",
              "#sk-container-id-1 div.sk-estimator.fitted:hover {\n",
              "  /* fitted */\n",
              "  background-color: var(--sklearn-color-fitted-level-2);\n",
              "}\n",
              "\n",
              "/* Specification for estimator info (e.g. \"i\" and \"?\") */\n",
              "\n",
              "/* Common style for \"i\" and \"?\" */\n",
              "\n",
              ".sk-estimator-doc-link,\n",
              "a:link.sk-estimator-doc-link,\n",
              "a:visited.sk-estimator-doc-link {\n",
              "  float: right;\n",
              "  font-size: smaller;\n",
              "  line-height: 1em;\n",
              "  font-family: monospace;\n",
              "  background-color: var(--sklearn-color-background);\n",
              "  border-radius: 1em;\n",
              "  height: 1em;\n",
              "  width: 1em;\n",
              "  text-decoration: none !important;\n",
              "  margin-left: 1ex;\n",
              "  /* unfitted */\n",
              "  border: var(--sklearn-color-unfitted-level-1) 1pt solid;\n",
              "  color: var(--sklearn-color-unfitted-level-1);\n",
              "}\n",
              "\n",
              ".sk-estimator-doc-link.fitted,\n",
              "a:link.sk-estimator-doc-link.fitted,\n",
              "a:visited.sk-estimator-doc-link.fitted {\n",
              "  /* fitted */\n",
              "  border: var(--sklearn-color-fitted-level-1) 1pt solid;\n",
              "  color: var(--sklearn-color-fitted-level-1);\n",
              "}\n",
              "\n",
              "/* On hover */\n",
              "div.sk-estimator:hover .sk-estimator-doc-link:hover,\n",
              ".sk-estimator-doc-link:hover,\n",
              "div.sk-label-container:hover .sk-estimator-doc-link:hover,\n",
              ".sk-estimator-doc-link:hover {\n",
              "  /* unfitted */\n",
              "  background-color: var(--sklearn-color-unfitted-level-3);\n",
              "  color: var(--sklearn-color-background);\n",
              "  text-decoration: none;\n",
              "}\n",
              "\n",
              "div.sk-estimator.fitted:hover .sk-estimator-doc-link.fitted:hover,\n",
              ".sk-estimator-doc-link.fitted:hover,\n",
              "div.sk-label-container:hover .sk-estimator-doc-link.fitted:hover,\n",
              ".sk-estimator-doc-link.fitted:hover {\n",
              "  /* fitted */\n",
              "  background-color: var(--sklearn-color-fitted-level-3);\n",
              "  color: var(--sklearn-color-background);\n",
              "  text-decoration: none;\n",
              "}\n",
              "\n",
              "/* Span, style for the box shown on hovering the info icon */\n",
              ".sk-estimator-doc-link span {\n",
              "  display: none;\n",
              "  z-index: 9999;\n",
              "  position: relative;\n",
              "  font-weight: normal;\n",
              "  right: .2ex;\n",
              "  padding: .5ex;\n",
              "  margin: .5ex;\n",
              "  width: min-content;\n",
              "  min-width: 20ex;\n",
              "  max-width: 50ex;\n",
              "  color: var(--sklearn-color-text);\n",
              "  box-shadow: 2pt 2pt 4pt #999;\n",
              "  /* unfitted */\n",
              "  background: var(--sklearn-color-unfitted-level-0);\n",
              "  border: .5pt solid var(--sklearn-color-unfitted-level-3);\n",
              "}\n",
              "\n",
              ".sk-estimator-doc-link.fitted span {\n",
              "  /* fitted */\n",
              "  background: var(--sklearn-color-fitted-level-0);\n",
              "  border: var(--sklearn-color-fitted-level-3);\n",
              "}\n",
              "\n",
              ".sk-estimator-doc-link:hover span {\n",
              "  display: block;\n",
              "}\n",
              "\n",
              "/* \"?\"-specific style due to the `<a>` HTML tag */\n",
              "\n",
              "#sk-container-id-1 a.estimator_doc_link {\n",
              "  float: right;\n",
              "  font-size: 1rem;\n",
              "  line-height: 1em;\n",
              "  font-family: monospace;\n",
              "  background-color: var(--sklearn-color-background);\n",
              "  border-radius: 1rem;\n",
              "  height: 1rem;\n",
              "  width: 1rem;\n",
              "  text-decoration: none;\n",
              "  /* unfitted */\n",
              "  color: var(--sklearn-color-unfitted-level-1);\n",
              "  border: var(--sklearn-color-unfitted-level-1) 1pt solid;\n",
              "}\n",
              "\n",
              "#sk-container-id-1 a.estimator_doc_link.fitted {\n",
              "  /* fitted */\n",
              "  border: var(--sklearn-color-fitted-level-1) 1pt solid;\n",
              "  color: var(--sklearn-color-fitted-level-1);\n",
              "}\n",
              "\n",
              "/* On hover */\n",
              "#sk-container-id-1 a.estimator_doc_link:hover {\n",
              "  /* unfitted */\n",
              "  background-color: var(--sklearn-color-unfitted-level-3);\n",
              "  color: var(--sklearn-color-background);\n",
              "  text-decoration: none;\n",
              "}\n",
              "\n",
              "#sk-container-id-1 a.estimator_doc_link.fitted:hover {\n",
              "  /* fitted */\n",
              "  background-color: var(--sklearn-color-fitted-level-3);\n",
              "}\n",
              "</style><div id=\"sk-container-id-1\" class=\"sk-top-container\"><div class=\"sk-text-repr-fallback\"><pre>LassoCV(cv=5)</pre><b>In a Jupyter environment, please rerun this cell to show the HTML representation or trust the notebook. <br />On GitHub, the HTML representation is unable to render, please try loading this page with nbviewer.org.</b></div><div class=\"sk-container\" hidden><div class=\"sk-item\"><div class=\"sk-estimator fitted sk-toggleable\"><input class=\"sk-toggleable__control sk-hidden--visually\" id=\"sk-estimator-id-1\" type=\"checkbox\" checked><label for=\"sk-estimator-id-1\" class=\"sk-toggleable__label fitted sk-toggleable__label-arrow fitted\">&nbsp;&nbsp;LassoCV<a class=\"sk-estimator-doc-link fitted\" rel=\"noreferrer\" target=\"_blank\" href=\"https://scikit-learn.org/1.5/modules/generated/sklearn.linear_model.LassoCV.html\">?<span>Documentation for LassoCV</span></a><span class=\"sk-estimator-doc-link fitted\">i<span>Fitted</span></span></label><div class=\"sk-toggleable__content fitted\"><pre>LassoCV(cv=5)</pre></div> </div></div></div></div>"
            ]
          },
          "metadata": {},
          "execution_count": 15
        }
      ],
      "source": [
        "from sklearn.linear_model import LassoCV\n",
        "\n",
        "lasso_cv = LassoCV(cv=5)  #cross validation to find best alpha\n",
        "lasso_cv.fit(X1_train, y1_train)"
      ]
    },
    {
      "cell_type": "code",
      "execution_count": null,
      "metadata": {
        "colab": {
          "base_uri": "https://localhost:8080/"
        },
        "id": "l1OmSrWLXlRS",
        "outputId": "1e45459b-0bda-424d-e0b4-85645c41e77e"
      },
      "outputs": [
        {
          "output_type": "stream",
          "name": "stdout",
          "text": [
            "Mean Squared Error: 1.1998478353654742\n",
            "                          Coefficient\n",
            "title_flag                   0.024551\n",
            "message_flag                -0.256881\n",
            "review_toanswer              0.015275\n",
            "order_status_numeric        -0.042633\n",
            "customer_loyalty             0.100921\n",
            "approval_duration_hours     -0.020567\n",
            "delivery_fromseller         -0.007798\n",
            "estimated_delivery_later     0.128246\n",
            "payment_value               -0.008768\n",
            "price                       -0.060008\n",
            "product_name_lenght          0.061239\n",
            "product_photos_qty          -0.001958\n",
            "volume_rating                0.003250\n",
            "descleng_rating             -0.029643\n",
            "payment_type_credit_card    -0.061685\n",
            "payment_type_debit_card     -0.016271\n",
            "payment_type_voucher        -0.016744\n",
            "customer_state_BA            0.388010\n",
            "customer_state_CE            0.065002\n",
            "customer_state_DF           -0.065166\n",
            "customer_state_ES            0.134185\n",
            "customer_state_MG            0.136224\n",
            "customer_state_MS            0.012148\n",
            "customer_state_PB            0.125840\n",
            "customer_state_PE            0.048597\n",
            "customer_state_PR           -0.008513\n",
            "customer_state_RJ            0.022691\n",
            "customer_state_RR            0.002685\n",
            "customer_state_SC            0.017473\n"
          ]
        }
      ],
      "source": [
        "lasso1 = Lasso(alpha= lasso_cv.alpha_) #using the best alpha value\n",
        "lasso1.fit(X1_train, y1_train)\n",
        "\n",
        "y1_pred = lasso1.predict(X1_test)\n",
        "mse1 = mean_squared_error(y1_test, y1_pred)\n",
        "print(f'Mean Squared Error: {mse1}')\n",
        "\n",
        "coefficients = pd.DataFrame(lasso1.coef_, index=X1.columns, columns=['Coefficient'])\n",
        "print(coefficients[coefficients['Coefficient'] != 0])"
      ]
    },
    {
      "cell_type": "markdown",
      "metadata": {
        "id": "hR9wCgZ7RcnP"
      },
      "source": [
        "##Orders with delivery time"
      ]
    },
    {
      "cell_type": "code",
      "execution_count": null,
      "metadata": {
        "id": "sTQEW2RjRcnQ"
      },
      "outputs": [],
      "source": [
        "X2 = delivery_df.drop(['review_score'], axis=1)  # All features\n",
        "y2 = delivery_df['review_score']  # Target variable\n",
        "\n",
        "# Handling missing values\n",
        "X2.fillna(0, inplace=True)\n",
        "X2 = pd.get_dummies(X2, drop_first=True)  # Exclusive hot encoding\n",
        "\n",
        "# Standardized features\n",
        "scaler2 = StandardScaler()\n",
        "X2_scaled = scaler2.fit_transform(X2)\n",
        "\n",
        "X2_train, X2_test, y2_train, y2_test = train_test_split(X2_scaled, y2, test_size=0.2, random_state=42)\n"
      ]
    },
    {
      "cell_type": "code",
      "execution_count": null,
      "metadata": {
        "colab": {
          "base_uri": "https://localhost:8080/"
        },
        "id": "eH0H0nx4YC9-",
        "outputId": "064bf0be-1dcb-431a-97e5-3ed47f2562bc"
      },
      "outputs": [
        {
          "name": "stdout",
          "output_type": "stream",
          "text": [
            "Best alpha: 0.0005942794888468965\n"
          ]
        }
      ],
      "source": [
        "from sklearn.linear_model import LassoCV\n",
        "\n",
        "lasso_cv = LassoCV(cv=5)  #cross validation\n",
        "lasso_cv.fit(X2_train, y2_train)\n",
        "print(f'Best alpha: {lasso_cv.alpha_}')"
      ]
    },
    {
      "cell_type": "code",
      "execution_count": null,
      "metadata": {
        "colab": {
          "base_uri": "https://localhost:8080/"
        },
        "id": "Lcz1E8U4YC1v",
        "outputId": "3f58219b-0e5c-4f64-8866-c376cc75f1e3"
      },
      "outputs": [
        {
          "name": "stdout",
          "output_type": "stream",
          "text": [
            "Mean Squared Error: 1.6613101945513449\n",
            "                             Coefficient\n",
            "title_flag                      0.036643\n",
            "message_flag                   -0.458909\n",
            "review_toanswer                 0.013025\n",
            "order_status_numeric            0.103598\n",
            "customer_loyalty                0.025367\n",
            "distance_km                     0.012514\n",
            "approval_duration_hours        -0.012069\n",
            "delivery_fromseller            -0.104191\n",
            "delivery_tocusto               -0.171840\n",
            "estimated_delivery_later        0.271672\n",
            "payment_sequential             -0.004480\n",
            "payment_installments           -0.046304\n",
            "payment_value                  -0.201486\n",
            "payment_type_numeric            0.003643\n",
            "order_item_id                  -0.217462\n",
            "price                           0.130001\n",
            "product_name_lenght            -0.021856\n",
            "product_description_lenght      0.027999\n",
            "product_photos_qty              0.011986\n",
            "product_volumetric_weight_g     0.007486\n",
            "volumetric_weight_rating        0.012875\n",
            "weight_rating                   0.039929\n",
            "volume_rating                  -0.044394\n",
            "descleng_rating                -0.028536\n",
            "payment_type_debit_card         0.020617\n",
            "payment_type_voucher           -0.027148\n",
            "customer_state_AL               0.012250\n",
            "customer_state_AM               0.001031\n",
            "customer_state_AP               0.018613\n",
            "customer_state_BA               0.010503\n",
            "customer_state_CE               0.007800\n",
            "customer_state_DF              -0.011342\n",
            "customer_state_ES               0.000335\n",
            "customer_state_GO              -0.004365\n",
            "customer_state_MA              -0.001714\n",
            "customer_state_MS               0.003331\n",
            "customer_state_MT              -0.012735\n",
            "customer_state_PA              -0.002731\n",
            "customer_state_PB               0.030400\n",
            "customer_state_PE               0.009800\n",
            "customer_state_PI               0.005000\n",
            "customer_state_PR              -0.002463\n",
            "customer_state_RJ              -0.030153\n",
            "customer_state_RN               0.013415\n",
            "customer_state_RO              -0.000656\n",
            "customer_state_RR               0.007760\n",
            "customer_state_RS              -0.017880\n",
            "customer_state_SC               0.008599\n",
            "customer_state_SE               0.016469\n",
            "customer_state_SP              -0.015902\n",
            "customer_state_TO               0.017277\n"
          ]
        }
      ],
      "source": [
        "lasso2 = Lasso(alpha= lasso_cv.alpha_) #using the best alpha value\n",
        "lasso2.fit(X2_train, y2_train)\n",
        "\n",
        "\n",
        "y2_pred = lasso2.predict(X2_test)\n",
        "mse2 = mean_squared_error(y2_test, y2_pred)\n",
        "print(f'Mean Squared Error: {mse2}')\n",
        "\n",
        "\n",
        "coefficients = pd.DataFrame(lasso2.coef_, index=X2.columns, columns=['Coefficient'])\n",
        "print(coefficients[coefficients['Coefficient'] != 0])"
      ]
    },
    {
      "cell_type": "markdown",
      "metadata": {
        "id": "_QNZku5rQt0o"
      },
      "source": [
        "# Models for orders without delivery time"
      ]
    },
    {
      "cell_type": "code",
      "execution_count": null,
      "metadata": {
        "id": "kgXCizaw3pWt"
      },
      "outputs": [],
      "source": [
        "from sklearn.ensemble import RandomForestRegressor as RF\n",
        "from sklearn.ensemble import GradientBoostingRegressor as GBDT\n",
        "from sklearn.metrics import mean_squared_error, r2_score\n",
        "from xgboost import XGBRegressor as XGB\n",
        "from sklearn.metrics import precision_recall_fscore_support\n",
        "\n",
        "RF_algo = RF()\n",
        "RF_model = RF_algo.fit(X1_train, y1_train)\n",
        "\n",
        "GBDT_algo = GBDT()\n",
        "GBDT_model = GBDT_algo.fit(X1_train, y1_train)\n",
        "\n",
        "XGB_algo = XGB()\n",
        "XGB_model = XGB_algo.fit(X1_train, y1_train)"
      ]
    },
    {
      "cell_type": "code",
      "execution_count": null,
      "metadata": {
        "colab": {
          "base_uri": "https://localhost:8080/"
        },
        "id": "N-G-HruODoiR",
        "outputId": "608a437a-dd05-4936-8c29-48113493e1cf"
      },
      "outputs": [
        {
          "name": "stdout",
          "output_type": "stream",
          "text": [
            "Model: Random Forest\n",
            "Mean Squared Error: 0.10808314121037466\n",
            "R-squared: 0.9294247446468711\n",
            "\n",
            "\n",
            "Model: Gradient Boosted Decision Trees\n",
            "Mean Squared Error: 0.4508594223091796\n",
            "R-squared: 0.7056014610465425\n",
            "\n",
            "\n",
            "Model: XGBDT\n",
            "Mean Squared Error: 0.0014612689422327143\n",
            "R-squared: 0.9990458324250872\n",
            "\n",
            "\n"
          ]
        }
      ],
      "source": [
        "models1 = [RF_model, GBDT_model, XGB_model]\n",
        "names = ['Random Forest', 'Gradient Boosted Decision Trees', 'XGBDT']\n",
        "\n",
        "for i in range(len(models1)):\n",
        "  print(f\"Model: {names[i]}\")\n",
        "\n",
        "  # predict based on training data\n",
        "  predict = models1[i].predict(X1_train)\n",
        "\n",
        "   # Calculate regression metrics (MSE and R-squared)\n",
        "  mse = mean_squared_error(y1_train, predict)\n",
        "  r2 = r2_score(y1_train, predict)\n",
        "  print(f\"Mean Squared Error: {mse}\")\n",
        "  print(f\"R-squared: {r2}\")\n",
        "  print(\"\\n\")\n"
      ]
    },
    {
      "cell_type": "code",
      "execution_count": null,
      "metadata": {
        "id": "CFKDg4NKGocx"
      },
      "outputs": [],
      "source": [
        "from sklearn.model_selection import RandomizedSearchCV\n",
        "from scipy.stats import uniform, randint\n",
        "\n",
        "# we get a load of warnings running the code so will supress them\n",
        "import warnings\n",
        "warnings.filterwarnings(\"ignore\")\n",
        "\n",
        "# create a hyperparameter search function for re-usability\n",
        "def random_search(algo, hyperparameters, X_train, Y_train):\n",
        "  # do the search using 5 folds/chunks\n",
        "  clf = RandomizedSearchCV(algo, hyperparameters, cv=5, random_state=2015,\n",
        "                          scoring='precision_macro', n_iter=20, refit=True)\n",
        "\n",
        "  # pass the data to fit/train\n",
        "  clf.fit(X_train, Y_train)\n",
        "\n",
        "  return clf.best_params_"
      ]
    },
    {
      "cell_type": "code",
      "execution_count": null,
      "metadata": {
        "id": "pdKOp1DWKDju"
      },
      "outputs": [],
      "source": [
        "# Random Forest\n",
        "RF_tuned_parameters = {\n",
        "    'n_estimators': randint(50, 500), # Draw from a uniform distribution between 50 and 500\n",
        "    'max_depth': randint(2, 7),  # Draw from a uniform distribution between 2 and 7\n",
        "    'min_samples_split': randint(2, 7),  # Draw from a uniform distribution between 2 and 7\n",
        "    'max_features': ['sqrt', 'log2', None]\n",
        "}\n",
        "\n",
        "RF_best_params = random_search(RF_algo, RF_tuned_parameters, X1_train, y1_train)"
      ]
    },
    {
      "cell_type": "code",
      "execution_count": null,
      "metadata": {
        "id": "awrFp3pRKM30"
      },
      "outputs": [],
      "source": [
        "# GBDT\n",
        "GBDT_tuned_parameters = {\n",
        "    'n_estimators': randint(25, 250), # Draw from a uniform distribution between 50 and 500\n",
        "    'learning_rate': uniform(loc=0.01, scale=4.99),  # Draw from a uniform distribution between 0.01 and 5\n",
        "    'criterion': ['friedman_mse', 'squared_error'],\n",
        "    'max_depth': randint(2, 7)  # Draw from a uniform distribution between 2 and 7\n",
        "}\n",
        "\n",
        "GBDT_best_params = random_search(GBDT_algo, GBDT_tuned_parameters, X1_train, y1_train)"
      ]
    },
    {
      "cell_type": "code",
      "execution_count": null,
      "metadata": {
        "id": "APlNPupKKQU5"
      },
      "outputs": [],
      "source": [
        "# XGBDT\n",
        "XGB_tuned_parameters = {\n",
        "    'n_estimators': randint(25, 250), # Draw from a uniform distribution between 50 and 500\n",
        "    # eta is learning rate\n",
        "    'eta': uniform(loc=0.01, scale=4.99),  # Draw from a uniform distribution between 0.01 and 5\n",
        "    # objective is the same as criterion\n",
        "    'objective': ['binary:logistic', 'binary:hinge'],\n",
        "    'max_depth': randint(2, 7)  # Draw from a uniform distribution between 2 and 7\n",
        "}\n",
        "\n",
        "XGB_best_params = random_search(XGB_algo, XGB_tuned_parameters, X1_train, y1_train)"
      ]
    },
    {
      "cell_type": "markdown",
      "metadata": {
        "id": "b_8-BPSoK8gP"
      },
      "source": [
        "Re-run after hyperparameter tuning"
      ]
    },
    {
      "cell_type": "code",
      "execution_count": null,
      "metadata": {
        "colab": {
          "base_uri": "https://localhost:8080/"
        },
        "id": "ClkFAdq4K7qE",
        "outputId": "7c25d37d-0bcd-49f5-b162-c3e31f286b31"
      },
      "outputs": [
        {
          "name": "stdout",
          "output_type": "stream",
          "text": [
            "Model: Random Forest\n",
            "Mean Squared Error: 0.10808314121037466\n",
            "R-squared: 0.9294247446468711\n",
            "\n",
            "\n",
            "Model: Gradient Boosted Decision Trees\n",
            "Mean Squared Error: 0.4508594223091796\n",
            "R-squared: 0.7056014610465425\n",
            "\n",
            "\n",
            "Model: XGBDT\n",
            "Mean Squared Error: 0.0014612689422327143\n",
            "R-squared: 0.9990458324250872\n",
            "\n",
            "\n"
          ]
        }
      ],
      "source": [
        "# score the models\n",
        "models2 = [RF_model, GBDT_model, XGB_model] # redo this or it uses the old models\n",
        "\n",
        "for i in range(len(models2)):\n",
        "  print(f\"Model: {names[i]}\")\n",
        "\n",
        "  # predict based on training data\n",
        "  predict = models2[i].predict(X1_train)\n",
        "\n",
        "  mse = mean_squared_error(y1_train, predict)\n",
        "  r2 = r2_score(y1_train, predict)\n",
        "\n",
        "  print(f\"Mean Squared Error: {mse}\")\n",
        "  print(f\"R-squared: {r2}\")\n",
        "  print(\"\\n\")"
      ]
    },
    {
      "cell_type": "code",
      "execution_count": null,
      "metadata": {
        "colab": {
          "base_uri": "https://localhost:8080/"
        },
        "id": "RLD2MPK7LYdY",
        "outputId": "2b2a9745-577e-46d1-af5d-d168b18cac78"
      },
      "outputs": [
        {
          "name": "stdout",
          "output_type": "stream",
          "text": [
            "Model: Random Forest\n",
            "Mean Squared Error: 0.6641310344827587\n",
            "R-squared: 0.5750976036515786\n",
            "\n",
            "\n",
            "Model: Gradient Boosted Decision Trees\n",
            "Mean Squared Error: 0.7117783410629526\n",
            "R-squared: 0.5446134767334021\n",
            "\n",
            "\n",
            "Model: XGBDT\n",
            "Mean Squared Error: 0.6679577052244011\n",
            "R-squared: 0.5726493494912732\n",
            "\n",
            "\n"
          ]
        }
      ],
      "source": [
        "for i in range(len(models2)):\n",
        "  print(f\"Model: {names[i]}\")\n",
        "\n",
        "  # predict based on TEST data\n",
        "  predict = models2[i].predict(X1_test)\n",
        "\n",
        "  # Calculate regression metrics (MSE and R-squared)\n",
        "  mse = mean_squared_error(y1_test, predict)\n",
        "  r2 = r2_score(y1_test, predict)\n",
        "  print(f\"Mean Squared Error: {mse}\")\n",
        "  print(f\"R-squared: {r2}\")\n",
        "  print(\"\\n\")"
      ]
    },
    {
      "cell_type": "markdown",
      "metadata": {
        "id": "QOiJ8y6aKu3S"
      },
      "source": [
        "# Models for Orders with delivery time"
      ]
    },
    {
      "cell_type": "code",
      "execution_count": null,
      "metadata": {
        "id": "qlUMIBCFKyw-"
      },
      "outputs": [],
      "source": [
        "from sklearn.ensemble import RandomForestRegressor as RF\n",
        "from sklearn.ensemble import GradientBoostingRegressor as GBDT\n",
        "from sklearn.metrics import mean_squared_error, r2_score\n",
        "from xgboost import XGBRegressor as XGB\n",
        "from sklearn.metrics import precision_recall_fscore_support\n",
        "\n",
        "RF_algo = RF()\n",
        "RF_model_2 = RF_algo.fit(X2_train, y2_train)\n",
        "\n",
        "GBDT_algo = GBDT()\n",
        "GBDT_model_2 = GBDT_algo.fit(X2_train, y2_train)\n",
        "\n",
        "XGB_algo = XGB()\n",
        "XGB_model_2 = XGB_algo.fit(X2_train, y2_train)"
      ]
    },
    {
      "cell_type": "code",
      "execution_count": null,
      "metadata": {
        "colab": {
          "base_uri": "https://localhost:8080/"
        },
        "id": "aOUGiWeFLKBe",
        "outputId": "b9b3c877-2159-4024-95d3-75bde1decd48"
      },
      "outputs": [
        {
          "name": "stdout",
          "output_type": "stream",
          "text": [
            "Model: Random Forest\n",
            "Mean Squared Error: 0.10922358580914275\n",
            "R-squared: 0.9514447590412201\n",
            "\n",
            "\n",
            "Model: Gradient Boosted Decision Trees\n",
            "Mean Squared Error: 1.4786758541853369\n",
            "R-squared: 0.3426560585059204\n",
            "\n",
            "\n",
            "Model: XGBDT\n",
            "Mean Squared Error: 0.948154457982659\n",
            "R-squared: 0.578498839491171\n",
            "\n",
            "\n"
          ]
        }
      ],
      "source": [
        "models3 = [RF_model_2, GBDT_model_2, XGB_model_2]\n",
        "names = ['Random Forest', 'Gradient Boosted Decision Trees', 'XGBDT']\n",
        "\n",
        "for i in range(len(models3)):\n",
        "  print(f\"Model: {names[i]}\")\n",
        "\n",
        "  # predict based on training data\n",
        "  predict = models3[i].predict(X2_train)\n",
        "\n",
        "   # Calculate regression metrics (MSE and R-squared)\n",
        "  mse = mean_squared_error(y2_train, predict)\n",
        "  r2 = r2_score(y2_train, predict)\n",
        "  print(f\"Mean Squared Error: {mse}\")\n",
        "  print(f\"R-squared: {r2}\")\n",
        "  print(\"\\n\")"
      ]
    },
    {
      "cell_type": "code",
      "execution_count": null,
      "metadata": {
        "colab": {
          "base_uri": "https://localhost:8080/"
        },
        "id": "CQua3TO_fraZ",
        "outputId": "6280f4f2-8ca5-4e62-c2e9-280f12ba0e02"
      },
      "outputs": [
        {
          "name": "stdout",
          "output_type": "stream",
          "text": [
            "Model: Random Forest\n",
            "Mean Squared Error: 0.7410197434282212\n",
            "R-squared: 0.6712224331110994\n",
            "\n",
            "\n",
            "Model: Gradient Boosted Decision Trees\n",
            "Mean Squared Error: 1.48054353186569\n",
            "R-squared: 0.34310859542293437\n",
            "\n",
            "\n",
            "Model: XGBDT\n",
            "Mean Squared Error: 1.0753638179664962\n",
            "R-squared: 0.5228797846117978\n",
            "\n",
            "\n"
          ]
        }
      ],
      "source": [
        "for i in range(len(models3)):\n",
        "  print(f\"Model: {names[i]}\")\n",
        "\n",
        "  # predict based on TEST data\n",
        "  predict = models3[i].predict(X2_test)\n",
        "\n",
        "  # Calculate regression metrics (MSE and R-squared)\n",
        "  mse = mean_squared_error(y2_test, predict)\n",
        "  r2 = r2_score(y2_test, predict)\n",
        "  print(f\"Mean Squared Error: {mse}\")\n",
        "  print(f\"R-squared: {r2}\")\n",
        "  print(\"\\n\")"
      ]
    },
    {
      "cell_type": "code",
      "execution_count": null,
      "metadata": {
        "colab": {
          "base_uri": "https://localhost:8080/"
        },
        "id": "GH_CHACrfwx8",
        "outputId": "c9eb7276-af24-40ed-afbb-a8139b2fa44a"
      },
      "outputs": [
        {
          "name": "stdout",
          "output_type": "stream",
          "text": [
            "[4. 1. 4. ... 5. 2. 5.]\n",
            "[1. 1. 1. 2. 1. 2. 2. 3. 1. 1. 1. 1. 5. 2. 1. 1. 1. 1. 1. 1. 1. 1. 1. 2.\n",
            " 1. 1. 1. 5. 1. 1. 1. 1. 5. 1. 2. 2. 1. 5. 1. 1. 5. 1. 1. 5. 2. 2. 1. 1.\n",
            " 4. 1. 1. 1. 1. 2. 1. 3. 2. 3. 3. 2. 2. 1. 1. 5. 3. 5. 1. 2. 1. 3. 1. 2.\n",
            " 2. 3. 1. 1. 2. 1. 1. 5. 1. 2. 2. 1. 1. 1. 1. 2. 2. 1. 2. 1. 1. 1. 2. 1.\n",
            " 1. 1. 2. 2. 1. 1. 1. 1. 1. 1. 2. 1. 5. 1. 2. 1. 1. 1. 1. 1. 2. 1. 1. 1.\n",
            " 1. 1. 1. 1. 1. 1. 1. 1. 1. 2. 2. 2. 1. 1. 2. 1. 1. 5. 1. 3. 2. 1. 1. 1.\n",
            " 1. 1. 2. 1. 2. 5. 1. 1. 1. 1. 1. 1. 1. 2. 2. 1. 3. 1. 1. 1. 1. 1. 1. 1.\n",
            " 2. 1. 1. 1. 2. 1. 2. 1. 1. 2. 1. 1. 2. 3. 1. 1. 1. 2. 1. 1. 2. 1. 1. 1.\n",
            " 1. 5. 1. 4. 2. 1. 1. 1. 1. 1. 5. 2. 1. 1. 1. 1. 1. 1. 1. 1. 1. 2. 1. 1.\n",
            " 1. 1. 1. 3. 2. 2. 1. 1. 1. 1. 1. 2. 1. 1. 1. 1. 1. 1. 1. 2. 1. 2. 4. 1.\n",
            " 2. 0. 1. 5. 2. 1. 1. 2. 1. 1. 5. 3. 1. 1. 1. 1. 2. 2. 2. 1. 2. 1. 3. 1.\n",
            " 3. 1. 2. 3. 2. 1. 2. 1. 5. 1. 1. 1. 2. 1. 1. 1. 2. 1. 1. 3. 1. 1. 3. 1.\n",
            " 1. 1. 1. 1. 1. 2. 1. 2. 1. 2. 1. 1. 5. 1. 1. 1. 1. 1. 1. 5. 1. 1. 1. 1.\n",
            " 2. 1. 1. 1. 1. 1. 1. 2. 3. 4. 1. 1. 2. 1. 5. 1. 1. 1. 1. 1. 1. 1. 1. 2.\n",
            " 1. 1. 4. 1. 1. 1. 1. 2. 1. 1. 2. 2.]\n"
          ]
        }
      ],
      "source": [
        " #To predict on new, unseen data:\n",
        "new_data = pd.DataFrame({'feature1': [X2_test], 'feature2': [X1_test],})\n",
        "new_predictions_rf = RF_model_2.predict(X2_test)\n",
        "new_predictions_xgb = XGB_model.predict(X1_test)\n",
        "new_predictions_rf = new_predictions_rf.round()\n",
        "new_predictions_xgb = new_predictions_xgb.round()\n",
        "print(new_predictions_rf)\n",
        "print(new_predictions_xgb)"
      ]
    },
    {
      "cell_type": "code",
      "execution_count": null,
      "metadata": {
        "colab": {
          "base_uri": "https://localhost:8080/"
        },
        "id": "G444QgzliV_u",
        "outputId": "191f9537-622e-410d-8304-aa77e09f3a8e"
      },
      "outputs": [
        {
          "name": "stdout",
          "output_type": "stream",
          "text": [
            "[4. 1. 4. ... 5. 2. 5.]\n"
          ]
        }
      ],
      "source": [
        "print(new_predictions_rf.round())"
      ]
    },
    {
      "cell_type": "markdown",
      "metadata": {
        "id": "VdBiagKhWcy6"
      },
      "source": [
        "##Feature Importance"
      ]
    },
    {
      "cell_type": "markdown",
      "metadata": {
        "id": "QX1Hk6DNKbiy"
      },
      "source": [
        "\n",
        "\n",
        "*   Regarding the variables of review, such as ***title_flag***, ***message_flag***, and the duration of responding to invitation reviews '***review_toanswer***',\n",
        "\n",
        "☝If their importance ranks high in the model, it can be concluded that **using the habit of writing reviews to draw user profiles can identify customers who habitually score high, and later send invitation reviews specifically**\n",
        "\n"
      ]
    },
    {
      "cell_type": "code",
      "execution_count": null,
      "metadata": {
        "colab": {
          "base_uri": "https://localhost:8080/"
        },
        "id": "Acy1gjx8krFu",
        "outputId": "3806f85f-4bd7-4a7b-d16f-50e3e74413be"
      },
      "outputs": [
        {
          "name": "stdout",
          "output_type": "stream",
          "text": [
            "                        Feature  Importance\n",
            "28            customer_state_BA    0.392621\n",
            "21     volumetric_weight_rating    0.114544\n",
            "29            customer_state_CE    0.074598\n",
            "8              delivery_tocusto    0.060418\n",
            "4              customer_loyalty    0.055183\n",
            "33            customer_state_MA    0.024593\n",
            "17          product_name_lenght    0.017901\n",
            "16                freight_value    0.015625\n",
            "19           product_photos_qty    0.015061\n",
            "14                order_item_id    0.014751\n",
            "1                  message_flag    0.014721\n",
            "20  product_volumetric_weight_g    0.014102\n",
            "31            customer_state_ES    0.013143\n",
            "32            customer_state_GO    0.012764\n",
            "46            customer_state_RS    0.011354\n",
            "39            customer_state_PE    0.011138\n",
            "15                        price    0.011135\n",
            "6       approval_duration_hours    0.010668\n",
            "11         payment_installments    0.010439\n",
            "3          order_status_numeric    0.009384\n",
            "12                payment_value    0.009146\n",
            "47            customer_state_SC    0.009078\n",
            "5                   distance_km    0.008747\n",
            "10           payment_sequential    0.008465\n",
            "18   product_description_lenght    0.007405\n",
            "7           delivery_fromseller    0.007368\n",
            "0                    title_flag    0.006796\n",
            "2               review_toanswer    0.006067\n",
            "22                weight_rating    0.005584\n",
            "35            customer_state_MS    0.005515\n",
            "41            customer_state_PR    0.005389\n",
            "34            customer_state_MG    0.005389\n",
            "42            customer_state_RJ    0.003521\n",
            "49            customer_state_SP    0.002729\n",
            "30            customer_state_DF    0.002430\n",
            "13         payment_type_numeric    0.001218\n",
            "25     payment_type_credit_card    0.000927\n",
            "24              descleng_rating    0.000082\n",
            "27         payment_type_voucher    0.000000\n",
            "36            customer_state_MT    0.000000\n",
            "37            customer_state_PA    0.000000\n",
            "38            customer_state_PB    0.000000\n",
            "26      payment_type_debit_card    0.000000\n",
            "40            customer_state_PI    0.000000\n",
            "23                volume_rating    0.000000\n",
            "43            customer_state_RN    0.000000\n",
            "44            customer_state_RO    0.000000\n",
            "45            customer_state_RR    0.000000\n",
            "9      estimated_delivery_later    0.000000\n",
            "48            customer_state_SE    0.000000\n"
          ]
        }
      ],
      "source": [
        "import pandas as pd\n",
        "import matplotlib.pyplot as plt\n",
        "\n",
        "# Obtain feature importance\n",
        "importances = XGB_model.feature_importances_\n",
        "feature_names = X1.columns\n",
        "\n",
        "importance_df = pd.DataFrame({'Feature': feature_names, 'Importance': importances})\n",
        "\n",
        "# Sort by importance\n",
        "importance_df = importance_df.sort_values(by='Importance', ascending=False)\n",
        "print(importance_df)\n"
      ]
    },
    {
      "cell_type": "code",
      "execution_count": null,
      "metadata": {
        "colab": {
          "base_uri": "https://localhost:8080/"
        },
        "id": "r3QdasvrXBN9",
        "outputId": "0312185b-3091-4f38-e5e5-0721f9af33b8"
      },
      "outputs": [
        {
          "name": "stdout",
          "output_type": "stream",
          "text": [
            "                        Feature  Importance\n",
            "1                  message_flag    0.119103\n",
            "12                payment_value    0.097806\n",
            "8              delivery_tocusto    0.073236\n",
            "15                        price    0.070826\n",
            "9      estimated_delivery_later    0.070732\n",
            "2               review_toanswer    0.067706\n",
            "7           delivery_fromseller    0.064491\n",
            "6       approval_duration_hours    0.054712\n",
            "5                   distance_km    0.051264\n",
            "16                freight_value    0.050696\n",
            "18   product_description_lenght    0.050668\n",
            "14                order_item_id    0.043889\n",
            "20  product_volumetric_weight_g    0.042441\n",
            "17          product_name_lenght    0.035779\n",
            "11         payment_installments    0.018752\n",
            "19           product_photos_qty    0.014147\n",
            "22                weight_rating    0.008901\n",
            "4              customer_loyalty    0.005506\n",
            "45            customer_state_RJ    0.005001\n",
            "0                    title_flag    0.004982\n",
            "21     volumetric_weight_rating    0.004236\n",
            "37            customer_state_MG    0.004143\n",
            "52            customer_state_SP    0.003962\n",
            "13         payment_type_numeric    0.003588\n",
            "23                volume_rating    0.003544\n",
            "44            customer_state_PR    0.002891\n",
            "50            customer_state_SC    0.002435\n",
            "49            customer_state_RS    0.002386\n",
            "25     payment_type_credit_card    0.002106\n",
            "31            customer_state_BA    0.001943\n",
            "10           payment_sequential    0.001892\n",
            "3          order_status_numeric    0.001822\n",
            "33            customer_state_DF    0.001758\n",
            "35            customer_state_GO    0.001686\n",
            "34            customer_state_ES    0.001652\n",
            "39            customer_state_MT    0.001030\n",
            "27         payment_type_voucher    0.000958\n",
            "42            customer_state_PE    0.000854\n",
            "38            customer_state_MS    0.000825\n",
            "32            customer_state_CE    0.000754\n",
            "24              descleng_rating    0.000750\n",
            "36            customer_state_MA    0.000677\n",
            "26      payment_type_debit_card    0.000675\n",
            "41            customer_state_PB    0.000487\n",
            "40            customer_state_PA    0.000447\n",
            "43            customer_state_PI    0.000382\n",
            "28            customer_state_AL    0.000304\n",
            "51            customer_state_SE    0.000304\n",
            "53            customer_state_TO    0.000268\n",
            "46            customer_state_RN    0.000245\n",
            "47            customer_state_RO    0.000207\n",
            "29            customer_state_AM    0.000078\n",
            "30            customer_state_AP    0.000061\n",
            "48            customer_state_RR    0.000013\n"
          ]
        }
      ],
      "source": [
        "importances2 = RF_model_2.feature_importances_\n",
        "\n",
        "feature_names2 = X2.columns\n",
        "importance_df2 = pd.DataFrame({'Feature': feature_names2, 'Importance': importances2})\n",
        "\n",
        "importance_df2 = importance_df2.sort_values(by='Importance', ascending=False)\n",
        "\n",
        "print(importance_df2)\n"
      ]
    },
    {
      "cell_type": "markdown",
      "metadata": {
        "id": "FYxLvVA5I6X7"
      },
      "source": [
        "\n",
        "\n",
        "---\n",
        "\n",
        "#Some cross check for report\n",
        "*   The result shows that '***weight_rating***','***volume_rating***' and\n",
        "'***volumetric_weight_rating***' hava a significant impact on **order delivery time**\n",
        "\n",
        "*   Intercept: 1.0343195383056702\n",
        "\n",
        "*   Coefficients:\n",
        "\n",
        " distance_km 0.01030723  \n",
        "\n",
        " weight_rating 3.40605733\n",
        "\n",
        " volume_rating -4.08864203  \n",
        "\n",
        " volumetric_weight_rating 5.16266484"
      ]
    },
    {
      "cell_type": "code",
      "execution_count": null,
      "metadata": {
        "colab": {
          "base_uri": "https://localhost:8080/"
        },
        "id": "dpYk8RKqJAuE",
        "outputId": "8f40b3d2-aca6-4adc-8d70-4cff2328fa8a"
      },
      "outputs": [
        {
          "name": "stdout",
          "output_type": "stream",
          "text": [
            "Intercept: 106.5987287964256\n",
            "Coefficients: [ 0.14433439  7.39839911 -2.67161653  2.88305141]\n",
            "Intercept: 1.0343195383055601\n",
            "Coefficients: [ 0.01030723  3.40605733 -4.08864203  5.16266484]\n"
          ]
        }
      ],
      "source": [
        "# Some cross check of variable\n",
        "import pandas as pd\n",
        "from sklearn.linear_model import LinearRegression\n",
        "\n",
        "X = delivery_df[['distance_km', 'weight_rating','volume_rating','volumetric_weight_rating']]\n",
        "y = delivery_df['delivery_tocusto']\n",
        "\n",
        "X['distance_km'].fillna(X['distance_km'].mean(), inplace=True)\n",
        "\n",
        "# Create and fit multiple regression models\n",
        "model = LinearRegression()\n",
        "model.fit(X, y)\n",
        "\n",
        "print('Intercept:', model.intercept_)\n",
        "print('Coefficients:', model.coef_)\n",
        "\n",
        "#Intercept: 106.59872879642506\n",
        "#Coefficients: [ 0.14433439  7.39839911 -2.67161653  2.88305141]\n",
        "\n",
        "\n",
        "X = delivery_df[['distance_km', 'weight_rating','volume_rating','volumetric_weight_rating']]\n",
        "y = delivery_df['freight_value']\n",
        "\n",
        "X['distance_km'].fillna(X['distance_km'].mean(), inplace=True)\n",
        "\n",
        "\n",
        "model = LinearRegression()\n",
        "model.fit(X, y)\n",
        "\n",
        "print('Intercept:', model.intercept_)\n",
        "print('Coefficients:', model.coef_)\n",
        "\n",
        "#Intercept: 1.0343195383056702\n",
        "#Coefficients: [ 0.01030723  3.40605733 -4.08864203  5.16266484]"
      ]
    }
  ],
  "metadata": {
    "colab": {
      "provenance": [],
      "include_colab_link": true
    },
    "kernelspec": {
      "display_name": "Python 3",
      "name": "python3"
    },
    "language_info": {
      "name": "python"
    }
  },
  "nbformat": 4,
  "nbformat_minor": 0
}